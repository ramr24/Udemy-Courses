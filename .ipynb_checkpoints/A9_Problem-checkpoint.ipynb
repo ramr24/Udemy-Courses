{
 "cells": [
  {
   "cell_type": "code",
   "execution_count": null,
   "metadata": {},
   "outputs": [],
   "source": [
    "\"\"\"\n",
    "Expand on the map you wrote for lab to write an application that can calculate \n",
    "the fastest route between two points.\n",
    "\n",
    "1) Begin by devising a data structure that can easily contain \n",
    "a weighted edge list, \n",
    "with two vertices and \n",
    "a integer representing the cost of travelling across that edge.\n",
    "\n",
    "(\"Queen Anne\", \"Capitol Hill\", 3), (\"SODO\", \"Bellevue\", 10), ...\n",
    "\n",
    "2) Using your weighted edge list, create a map class with a method ShortestPath() that \n",
    "returns the shortest path between two vertices.\n",
    "\n",
    "Hint: In order to calculate the shortest path between any two vertices on a map, \n",
    "you must first calculate the shortest path to all of the vertices. To accomplish this, \n",
    "you will need to store each vertex, the path used to get there, and the total cost of that path. \n",
    "Think critically about how you can determine when you can exclude a vertex from your search.\n",
    "\"\"\""
   ]
  }
 ],
 "metadata": {
  "kernelspec": {
   "display_name": "Python 3",
   "language": "python",
   "name": "python3"
  },
  "language_info": {
   "codemirror_mode": {
    "name": "ipython",
    "version": 3
   },
   "file_extension": ".py",
   "mimetype": "text/x-python",
   "name": "python",
   "nbconvert_exporter": "python",
   "pygments_lexer": "ipython3",
   "version": "3.6.5"
  }
 },
 "nbformat": 4,
 "nbformat_minor": 2
}
