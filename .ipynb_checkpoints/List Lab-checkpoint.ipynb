{
 "cells": [
  {
   "cell_type": "markdown",
   "metadata": {},
   "source": [
    "### List Lab"
   ]
  },
  {
   "cell_type": "code",
   "execution_count": null,
   "metadata": {},
   "outputs": [],
   "source": [
    "\"\"\"\n",
    "Goal: Learn the basic ins and outs of Python lists.\n",
    "\n",
    "\n",
    "Series 1:\n",
    "-Create a list that contains “Apples”, “Pears”, “Oranges” and “Peaches”.\n",
    "-Display the list (plain old print() is fine…).\n",
    "-Ask the user for another fruit and add it to the end of the list.\n",
    "-Display the list.\n",
    "-Ask the user for a number and display the number back to the user and the fruit corresponding to that number (on a 1-is-first basis). Remember that Python uses zero-based indexing, so you will need to correct.\n",
    "-Add another fruit to the beginning of the list using “+” and display the list.\n",
    "-Add another fruit to the beginning of the list using insert() and display the list.\n",
    "-Display all the fruits that begin with “P”, using a for loop.\n",
    "\n",
    "\n",
    "Series 2:\n",
    "Using the list created in series 1 above:\n",
    "\n",
    "-Display the list.\n",
    "-Remove the last fruit from the list.\n",
    "-Display the list.\n",
    "-Ask the user for a fruit to delete, find it and delete it.\n",
    "(Bonus: Multiply the list times two. Keep asking until a match is found. Once found, delete all occurrences.)\n",
    "\n",
    "\n",
    "Series 3:\n",
    "Again, using the list from series 1:\n",
    "\n",
    "-Ask the user for input displaying a line like “Do you like apples?” for each fruit in the list (making the fruit all lowercase).\n",
    "-For each “no”, delete that fruit from the list.\n",
    "-For any answer that is not “yes” or “no”, prompt the user to answer with one of those two values (a while loop is good here)\n",
    "-Display the list.\n",
    "\n",
    "Series 4:\n",
    "Once more, using the list from series 1:\n",
    "\n",
    "-Make a new list with the contents of the original, but with all the letters in each item reversed.\n",
    "-Delete the last item of the original list. Display the original list and the copy.\n",
    "\"\"\""
   ]
  },
  {
   "cell_type": "code",
   "execution_count": 1,
   "metadata": {},
   "outputs": [
    {
     "name": "stdout",
     "output_type": "stream",
     "text": [
      "['Apples', 'Pears', 'Oranges', 'Peaches']\n"
     ]
    }
   ],
   "source": [
    "list1 = [\"Apples\", \"Pears\", \"Oranges\", \"Peaches\"]\n",
    "print(list1)"
   ]
  },
  {
   "cell_type": "markdown",
   "metadata": {},
   "source": [
    "### Series 1"
   ]
  },
  {
   "cell_type": "code",
   "execution_count": null,
   "metadata": {},
   "outputs": [],
   "source": [
    "#fruit = input(\"Enter the fruit to add to the list: \")\n",
    "num = input(\"Enter the number to choose the fruit from the list: \")\n",
    "num -= 1\n",
    "\n",
    "if num < 0 :\n",
    "    print(\"Please enter a number of 1 or above.\")\n",
    "else:\n",
    "    print(list1[num])"
   ]
  },
  {
   "cell_type": "markdown",
   "metadata": {},
   "source": [
    "### Series 2"
   ]
  },
  {
   "cell_type": "code",
   "execution_count": 2,
   "metadata": {},
   "outputs": [
    {
     "name": "stdout",
     "output_type": "stream",
     "text": [
      "['Apples', 'Pears', 'Oranges', 'Peaches']\n",
      "['Apples', 'Pears', 'Oranges']\n"
     ]
    }
   ],
   "source": [
    "#remove_last:\n",
    "print(list1)\n",
    "list1.pop() #removes last item in list\n",
    "print(list1)"
   ]
  },
  {
   "cell_type": "code",
   "execution_count": null,
   "metadata": {},
   "outputs": [],
   "source": [
    "input(\"Enter the name of the fruit to delete: \")"
   ]
  },
  {
   "cell_type": "code",
   "execution_count": null,
   "metadata": {},
   "outputs": [],
   "source": []
  },
  {
   "cell_type": "markdown",
   "metadata": {},
   "source": [
    "### Series 3"
   ]
  },
  {
   "cell_type": "code",
   "execution_count": null,
   "metadata": {},
   "outputs": [],
   "source": [
    "input(\"Do you like apples?\")\n",
    "input(\"Do you like pears?\")\n",
    "input(\"Do you like oranges?\")\n",
    "input(\"Do you like peaches?\")"
   ]
  },
  {
   "cell_type": "code",
   "execution_count": null,
   "metadata": {},
   "outputs": [],
   "source": []
  }
 ],
 "metadata": {
  "kernelspec": {
   "display_name": "Python 2",
   "language": "python",
   "name": "python2"
  },
  "language_info": {
   "codemirror_mode": {
    "name": "ipython",
    "version": 2
   },
   "file_extension": ".py",
   "mimetype": "text/x-python",
   "name": "python",
   "nbconvert_exporter": "python",
   "pygments_lexer": "ipython2",
   "version": "2.7.15"
  }
 },
 "nbformat": 4,
 "nbformat_minor": 2
}
