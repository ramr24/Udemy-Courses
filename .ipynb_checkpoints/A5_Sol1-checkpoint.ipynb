{
 "cells": [
  {
   "cell_type": "code",
   "execution_count": 1,
   "metadata": {},
   "outputs": [],
   "source": [
    "import operator"
   ]
  },
  {
   "cell_type": "code",
   "execution_count": 24,
   "metadata": {},
   "outputs": [
    {
     "name": "stdout",
     "output_type": "stream",
     "text": [
      "['A']\n",
      "B\n",
      "['A', 'B']\n",
      "['A']\n",
      "False\n",
      "A\n"
     ]
    }
   ],
   "source": [
    "class Stack:\n",
    "    def __init__(self):\n",
    "        #Initialize new empty stack\n",
    "        self.stack = []\n",
    "    \n",
    "    def push(self, value):\n",
    "        #Add new data to stack\n",
    "        self.stack.append(value)\n",
    "        \n",
    "    def pop(self):\n",
    "        #Remove and return data from stack\n",
    "        return self.stack.pop()\n",
    "    \n",
    "    def is_empty(self):\n",
    "        #Check for empty stack\n",
    "        return self.stack == []\n",
    "    \n",
    "    def result(self):\n",
    "        if not self.is_empty():\n",
    "            return self.stack[-1]\n",
    "    \n",
    "    def get_stack(self):\n",
    "        return self.stack\n",
    "\n",
    "stack = Stack()\n",
    "stack.push('A')\n",
    "print(stack.get_stack())\n",
    "stack.push('B')\n",
    "print(stack.result())\n",
    "print(stack.get_stack())\n",
    "stack.pop()\n",
    "print(stack.get_stack())\n",
    "print(stack.is_empty())\n",
    "print(stack.result())"
   ]
  },
  {
   "cell_type": "markdown",
   "metadata": {},
   "source": [
    "### 1st Way"
   ]
  },
  {
   "cell_type": "code",
   "execution_count": 25,
   "metadata": {},
   "outputs": [],
   "source": [
    "def process(expr):\n",
    "    stack = Stack()\n",
    "    tokenList = expr.split()\n",
    "\n",
    "    operators = {'+': operator.add, \n",
    "                 '-': operator.sub,\n",
    "                 '*': operator.mul,\n",
    "                 '/': operator.floordiv}\n",
    "\n",
    "    for token in tokenList:\n",
    "        if token in \"0123456789\":\n",
    "            stack.push(int(token))\n",
    "        elif token in operators:\n",
    "            operand2 = stack.pop()\n",
    "            operand1 = stack.pop()\n",
    "            result = operators[token]\n",
    "            stack.push(result(operand1,operand2))\n",
    "    return stack.pop()\n",
    "    \n",
    "\n",
    "def result(self):\n",
    "    if not self.is_empty():\n",
    "        return self.stack[-1]"
   ]
  },
  {
   "cell_type": "code",
   "execution_count": 26,
   "metadata": {},
   "outputs": [
    {
     "name": "stdout",
     "output_type": "stream",
     "text": [
      "6\n"
     ]
    }
   ],
   "source": [
    "if __name__ == '__main__':\n",
    "    print(process('1 2 3 *'))"
   ]
  },
  {
   "cell_type": "markdown",
   "metadata": {},
   "source": [
    "### 2nd Way"
   ]
  },
  {
   "cell_type": "code",
   "execution_count": null,
   "metadata": {},
   "outputs": [],
   "source": [
    "def process(tokens, stack):\n",
    "    operators = {'+': operator.add, \n",
    "                 '-': operator.sub,\n",
    "                 '*': operator.mul,\n",
    "                 '/': operator.floordiv}\n",
    "    \n",
    "    for token in tokens:\n",
    "        if token in \"0123456789\":\n",
    "            stack.append(int(token))\n",
    "        elif token in operators:\n",
    "            operand2 = stack.pop()\n",
    "            operand1 = stack.pop()\n",
    "            result = operators[token]\n",
    "            stack.append(result(operand1,operand2))\n",
    "    return stack"
   ]
  },
  {
   "cell_type": "code",
   "execution_count": null,
   "metadata": {},
   "outputs": [],
   "source": [
    "if __name__ == '__main__':\n",
    "    stack = []\n",
    "    while True:\n",
    "        readLine = input(\"Calc>\")\n",
    "        if readLine == 'quit':\n",
    "            break\n",
    "        stack = process(readLine.split(), stack)\n",
    "        print(\"=\", stack)"
   ]
  },
  {
   "cell_type": "code",
   "execution_count": null,
   "metadata": {},
   "outputs": [],
   "source": []
  },
  {
   "cell_type": "code",
   "execution_count": null,
   "metadata": {},
   "outputs": [],
   "source": []
  }
 ],
 "metadata": {
  "kernelspec": {
   "display_name": "Python 3",
   "language": "python",
   "name": "python3"
  },
  "language_info": {
   "codemirror_mode": {
    "name": "ipython",
    "version": 3
   },
   "file_extension": ".py",
   "mimetype": "text/x-python",
   "name": "python",
   "nbconvert_exporter": "python",
   "pygments_lexer": "ipython3",
   "version": "3.6.5"
  }
 },
 "nbformat": 4,
 "nbformat_minor": 2
}
