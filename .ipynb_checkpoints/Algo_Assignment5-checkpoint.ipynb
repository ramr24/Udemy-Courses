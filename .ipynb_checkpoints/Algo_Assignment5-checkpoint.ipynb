{
 "cells": [
  {
   "cell_type": "code",
   "execution_count": 1,
   "metadata": {},
   "outputs": [],
   "source": [
    "# 1. Create a Reverse Polish Notation calculator\n",
    "class RPN:\n",
    "  def process(self, value):\n",
    "    pass\n",
    "  \n",
    "  def result(self):\n",
    "    pass\n",
    "\n",
    "# 2. Write a method that removes the maximum value from a stack\n",
    "def remove_max(values):\n",
    "  pass"
   ]
  },
  {
   "cell_type": "code",
   "execution_count": 2,
   "metadata": {},
   "outputs": [
    {
     "data": {
      "text/plain": [
       "'\\n1. Create a Reverse Polish Notation (RPN) calculator using a stack.\\nrpn = new RPN\\n\\nwhile (true)\\n{\\n  string str = readLineFromKeyboard( )\\n\\n  rpn.process(str)\\n\\n  print(\"=\" + rpn.result( ))\\n}\\n\\nYour process( ) method should handle \"+\", \"-\", \"*\", \"/\", and positive/negative numbers.\\nWhen process( ) gets a number, it should push the number onto the stack.\\nWhen process( ) gets an operation, it should pop two values off the stack, perform the operation, then push the result back onto the stack. \\nThe result( ) method should return the last value pushed on the stack.\\n\\nHint: Your process() method should explicitly handle the operations and if it\\'s not an operation, assume it\\'s a number and push that number on the stack.\\n\\nScenario: \\nIn RPN, \"5 ENTER 4 ENTER + ENTER 3 ENTER - ENTER\" yields a value of 6.\\nCalc>5\\n=5\\nCalc>4\\n=4\\nCalc>+\\n=9\\nCalc>3\\n=3\\nCalc>-\\n=6\\n'"
      ]
     },
     "execution_count": 2,
     "metadata": {},
     "output_type": "execute_result"
    }
   ],
   "source": [
    "\"\"\"\n",
    "1. Create a Reverse Polish Notation (RPN) calculator using a stack.\n",
    "rpn = new RPN\n",
    "\n",
    "while (true)\n",
    "{\n",
    "  string str = readLineFromKeyboard( )\n",
    "\n",
    "  rpn.process(str)\n",
    "\n",
    "  print(\"=\" + rpn.result( ))\n",
    "}\n",
    "\n",
    "Your process( ) method should handle \"+\", \"-\", \"*\", \"/\", and positive/negative numbers.\n",
    "When process( ) gets a number, it should push the number onto the stack.\n",
    "When process( ) gets an operation, it should pop two values off the stack, perform the operation, then push the result back onto the stack. \n",
    "The result( ) method should return the last value pushed on the stack.\n",
    "\n",
    "Hint: Your process() method should explicitly handle the operations and if it's not an operation, assume it's a number and push that number on the stack.\n",
    "\n",
    "Scenario: \n",
    "In RPN, \"5 ENTER 4 ENTER + ENTER 3 ENTER - ENTER\" yields a value of 6.\n",
    "Calc>5\n",
    "=5\n",
    "Calc>4\n",
    "=4\n",
    "Calc>+\n",
    "=9\n",
    "Calc>3\n",
    "=3\n",
    "Calc>-\n",
    "=6\n",
    "\"\"\""
   ]
  },
  {
   "cell_type": "code",
   "execution_count": 3,
   "metadata": {},
   "outputs": [
    {
     "data": {
      "text/plain": [
       "'\\n2. Write a function remove_max(values), given the following specifications:\\nTakes a stack of integers as a parameter\\nRemoves the maximum value from the stack, and returns that value.\\nThe order of other values in the stack should NOT be changed.\\n\\nExample:  \\n# Lets say the stack s1 contains:  \\n# bottom { 7, 77, 88, 2, 97, 5, 117, 107, 61, 107, 52 } top\\n# You call remove_max() on this stack\\n\\nmaxValue = remove_max(s1);\\n# maxValue will contain 117\\n\\n# Now, the stack s1 will look like:  \\n# bottom { 7, 77, 88, 2, 97, 5, 107, 61, 107, 52 } top\\n\\nMore specifications:\\nIf there are multiple instances of the maximum value, RemoveMax should remove all of those.  \\nExample: On the stack s1 above, lets say we call RemoveMax again, then we should get the following resultant stack: bottomOfStack { 7, 77, 88, 2, 97, 5, 61, 52 } topOfStack\\nYou can use only one queue as auxiliary storage.\\nYou cannot use any other data structure in your code.\\nOf course, using built in primitive type variables is ok (like, integer, etc)\\n'"
      ]
     },
     "execution_count": 3,
     "metadata": {},
     "output_type": "execute_result"
    }
   ],
   "source": [
    "\"\"\"\n",
    "2. Write a function remove_max(values), given the following specifications:\n",
    "Takes a stack of integers as a parameter\n",
    "Removes the maximum value from the stack, and returns that value.\n",
    "The order of other values in the stack should NOT be changed.\n",
    "\n",
    "Example:  \n",
    "# Lets say the stack s1 contains:  \n",
    "# bottom { 7, 77, 88, 2, 97, 5, 117, 107, 61, 107, 52 } top\n",
    "# You call remove_max() on this stack\n",
    "\n",
    "maxValue = remove_max(s1);\n",
    "# maxValue will contain 117\n",
    "\n",
    "# Now, the stack s1 will look like:  \n",
    "# bottom { 7, 77, 88, 2, 97, 5, 107, 61, 107, 52 } top\n",
    "\n",
    "More specifications:\n",
    "If there are multiple instances of the maximum value, RemoveMax should remove all of those.  \n",
    "Example: On the stack s1 above, lets say we call RemoveMax again, then we should get the following resultant stack: bottomOfStack { 7, 77, 88, 2, 97, 5, 61, 52 } topOfStack\n",
    "You can use only one queue as auxiliary storage.\n",
    "You cannot use any other data structure in your code.\n",
    "Of course, using built in primitive type variables is ok (like, integer, etc)\n",
    "\"\"\""
   ]
  },
  {
   "cell_type": "markdown",
   "metadata": {},
   "source": [
    "### Problem 1"
   ]
  },
  {
   "cell_type": "code",
   "execution_count": null,
   "metadata": {},
   "outputs": [],
   "source": [
    "\"\"\"\n",
    "1. Create a Reverse Polish Notation (RPN) calculator using a stack.\n",
    "rpn = new RPN\n",
    "\n",
    "while (true)\n",
    "{\n",
    "  string str = readLineFromKeyboard( )\n",
    "\n",
    "  rpn.process(str)\n",
    "\n",
    "  print(\"=\" + rpn.result( ))\n",
    "}\n",
    "\n",
    "Your process( ) method should handle \"+\", \"-\", \"*\", \"/\", and positive/negative numbers.\n",
    "When process( ) gets a number, it should push the number onto the stack.\n",
    "When process( ) gets an operation, it should pop two values off the stack, perform the operation, then push the result back onto the stack. \n",
    "The result( ) method should return the last value pushed on the stack.\n",
    "\n",
    "Hint: Your process() method should explicitly handle the operations and if it's not an operation, assume it's a number and push that number on the stack.\n",
    "\n",
    "Scenario: \n",
    "In RPN, \"5 ENTER 4 ENTER + ENTER 3 ENTER - ENTER\" yields a value of 6.\n",
    "Calc>5\n",
    "=5\n",
    "Calc>4\n",
    "=4\n",
    "Calc>+\n",
    "=9\n",
    "Calc>3\n",
    "=3\n",
    "Calc>-\n",
    "=6\n",
    "\"\"\""
   ]
  },
  {
   "cell_type": "code",
   "execution_count": 6,
   "metadata": {},
   "outputs": [],
   "source": [
    "class Stack():\n",
    "    def __init__(self):\n",
    "        self.items = []\n",
    "    \n",
    "    def push(self, item):\n",
    "        self.items.append(item)\n",
    "        \n",
    "    def pop(self):\n",
    "        return self.items.pop()\n",
    "    \n",
    "    def is_empty(self):\n",
    "        return self.items == []\n",
    "    \n",
    "    def peek(self): #or get_stack\n",
    "        if not self.is_empty():\n",
    "            return self.items[-1]\n",
    "    \n",
    "    def get_stack(self):\n",
    "        return self.items\n",
    "\n",
    "s = Stack()\n",
    "\n",
    "# 1. Create a Reverse Polish Notation calculator\n",
    "class RPN:\n",
    "  def process(self, value):\n",
    "    pass\n",
    "  \n",
    "  def result(self):\n",
    "    pass\n"
   ]
  },
  {
   "cell_type": "code",
   "execution_count": null,
   "metadata": {},
   "outputs": [],
   "source": [
    "rpn = new RPN\n",
    "\n",
    "while (true)\n",
    "{\n",
    "  string str = readLineFromKeyboard( )\n",
    "\n",
    "  rpn.process(str)\n",
    "\n",
    "  print(\"=\" + rpn.result( ))\n",
    "}"
   ]
  },
  {
   "cell_type": "code",
   "execution_count": null,
   "metadata": {},
   "outputs": [],
   "source": []
  },
  {
   "cell_type": "code",
   "execution_count": null,
   "metadata": {},
   "outputs": [],
   "source": []
  },
  {
   "cell_type": "markdown",
   "metadata": {},
   "source": [
    "### Problem 2"
   ]
  },
  {
   "cell_type": "code",
   "execution_count": null,
   "metadata": {},
   "outputs": [],
   "source": []
  }
 ],
 "metadata": {
  "kernelspec": {
   "display_name": "Python 3",
   "language": "python",
   "name": "python3"
  },
  "language_info": {
   "codemirror_mode": {
    "name": "ipython",
    "version": 3
   },
   "file_extension": ".py",
   "mimetype": "text/x-python",
   "name": "python",
   "nbconvert_exporter": "python",
   "pygments_lexer": "ipython3",
   "version": "3.6.5"
  }
 },
 "nbformat": 4,
 "nbformat_minor": 2
}
