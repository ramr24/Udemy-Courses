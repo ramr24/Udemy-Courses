{
 "cells": [
  {
   "cell_type": "markdown",
   "metadata": {},
   "source": [
    "### Lab 1.1"
   ]
  },
  {
   "cell_type": "code",
   "execution_count": null,
   "metadata": {},
   "outputs": [],
   "source": []
  },
  {
   "cell_type": "code",
   "execution_count": 2,
   "metadata": {
    "scrolled": true
   },
   "outputs": [
    {
     "ename": "NameError",
     "evalue": "name 'ConvertToBinary' is not defined",
     "output_type": "error",
     "traceback": [
      "\u001b[1;31m---------------------------------------------------------------------------\u001b[0m",
      "\u001b[1;31mNameError\u001b[0m                                 Traceback (most recent call last)",
      "\u001b[1;32m<ipython-input-2-08429fa48d31>\u001b[0m in \u001b[0;36m<module>\u001b[1;34m()\u001b[0m\n\u001b[1;32m----> 1\u001b[1;33m \u001b[0mConvertToBinary\u001b[0m\u001b[1;33m(\u001b[0m\u001b[1;36m4\u001b[0m\u001b[1;33m)\u001b[0m\u001b[1;33m\u001b[0m\u001b[0m\n\u001b[0m",
      "\u001b[1;31mNameError\u001b[0m: name 'ConvertToBinary' is not defined"
     ]
    }
   ],
   "source": [
    "ConvertToBinary(4)"
   ]
  },
  {
   "cell_type": "code",
   "execution_count": null,
   "metadata": {},
   "outputs": [],
   "source": [
    "ConvertToBinary(10)"
   ]
  },
  {
   "cell_type": "code",
   "execution_count": null,
   "metadata": {},
   "outputs": [],
   "source": [
    "ConvertToBinary(15)"
   ]
  },
  {
   "cell_type": "markdown",
   "metadata": {},
   "source": [
    "### Lab 1.2"
   ]
  },
  {
   "cell_type": "code",
   "execution_count": null,
   "metadata": {},
   "outputs": [],
   "source": [
    "Write a function Convert:\n",
    "takes an integer as 1st argument –this represents the value to be converted\n",
    "takes an integer as 2nd argument –this represents the base to be used.\n",
    "Returns a string that has the converted value.\n",
    "\n",
    "Base 2 - Binary\n",
    "Base 10 - Decimal\n",
    "Base 16 - Hexadecimal\n",
    "\n",
    "Examples:\n",
    "(Decimal value, Base)\n",
    "\n",
    "Convert (3, 2) returns “11”\n",
    "Convert (7, 2) returns “111”\n",
    "Convert (32, 16) returns “20”"
   ]
  },
  {
   "cell_type": "code",
   "execution_count": null,
   "metadata": {},
   "outputs": [],
   "source": [
    "def Convert(num, base):\n",
    "    if((num < 0) | (base < 0) | (base > 16))\n",
    "        return \"\"\n",
    "    while (num > 0)\n",
    "        lsb = num % base\n",
    "        if lsb <= 9:\n",
    "    \n",
    "    \n",
    "    \n",
    "    pass"
   ]
  },
  {
   "cell_type": "code",
   "execution_count": null,
   "metadata": {},
   "outputs": [],
   "source": []
  },
  {
   "cell_type": "code",
   "execution_count": null,
   "metadata": {},
   "outputs": [],
   "source": []
  },
  {
   "cell_type": "markdown",
   "metadata": {},
   "source": [
    "### Assignment 1"
   ]
  },
  {
   "cell_type": "markdown",
   "metadata": {},
   "source": [
    "string 11 element = LpuPe81bc2w shortened url\n",
    "\n",
    "Convert a base-62 number to base-10 and back again.\n",
    "\n",
    "Hint: For each letter in the base-62 number, look up the value in the string (\"0123456789ABC...\"). This gives you the base-62 value for that digit. Keep a running total and remember to keep multiplying by 62.\n",
    "\n",
    "base-62 = 62^(62-1) +62^(61-2)...62^(62-62) or 62^0\n",
    "\n",
    "NOTE: Answer contains 20 digits (18,###,###,###,###,###,974)\n",
    "\n",
    "\n",
    "11 characters in length (11 spaces)\n",
    "MSB = 62^11-1 = 62^10 \n",
    "LSB = 62^0 = 1\n",
    "\n",
    "SUM(62^10 + 62^9 + 62^8 +)"
   ]
  },
  {
   "cell_type": "markdown",
   "metadata": {},
   "source": [
    "Example: aAx97 shortened url base-62 represent in base-10 decimal value?\n",
    "a- 62^4\n",
    "A- 62^3\n",
    "x- 62^2\n",
    "9- 62^1\n",
    "7- 62^0\n",
    "SUM = (62^4 + 62^3 + 62^2 + 62^1 + 62^0) = base-10 decimal value"
   ]
  },
  {
   "cell_type": "code",
   "execution_count": 15,
   "metadata": {},
   "outputs": [],
   "source": [
    "base_62 = \"0123456789ABCDEFGHIJKLMNOPQRSTUVWXYZabcdefghijklmnopqrstuvwxyz\"\n",
    "\n",
    "# 1. For our first problem, write a function that converts a given base-62 string\n",
    "#    into an integer. Only a single string will be provided, and it will be up to\n",
    "#    11 characters in length.\n",
    "\n",
    "def to_base_10(videoId):\n",
    "    \"\"\"Convert given base-62 string into an integer (Decode).\n",
    "    \n",
    "    Arguments: \n",
    "    -videoId: single string upto 11 characters\n",
    "    \"\"\"\n",
    "    \n",
    "    base = len(base_62) #base = 62 (Length of base_62 string)\n",
    "    string = len(videoId) #string = length of the single string upto 11 characters \n",
    "    number = 0\n",
    "    exp = 0 #exp acts as part of exponent on 62^n-1\n",
    "    \n",
    "    for char in videoId: #for loop run for each character in the string videoId\n",
    "        power = (string - (exp + 1)) #n - 1\n",
    "        number = number + base_62.index(char) * (base ** power)+ #Index of string * 62^n-1 +...\n",
    "        exp = exp + 1 #exp increases everytime for loop is run 62^0\n",
    "    return number\n",
    "    \n",
    "# 2. Write a function that does the opposite of the previous one. That is, it\n",
    "#    encodes a integer video key as a base-62 string.\n",
    "\n",
    "def to_base_62(number):\n",
    "    \"\"\"Encode an integer video key as a base-62 string (Encode).\n",
    "    \n",
    "    Arguments: \n",
    "    -number: number to encode \n",
    "    \"\"\"\n",
    "    \n",
    "    base = len(base_62)\n",
    "    \n",
    "    \n",
    "    pass "
   ]
  },
  {
   "cell_type": "code",
   "execution_count": 22,
   "metadata": {},
   "outputs": [
    {
     "data": {
      "text/plain": [
       "361097996547231939420324315862125604148156665886431480862914942937732101183106158332978897913678986703118641"
      ]
     },
     "execution_count": 22,
     "metadata": {},
     "output_type": "execute_result"
    }
   ],
   "source": [
    "to_base_10(\"0123456789ABCDEFGHIJKLMNOPQRSTUVWXYZabcdefghijklmnopqrstuvwxyz\")"
   ]
  },
  {
   "cell_type": "code",
   "execution_count": null,
   "metadata": {},
   "outputs": [],
   "source": []
  },
  {
   "cell_type": "code",
   "execution_count": 2,
   "metadata": {},
   "outputs": [],
   "source": [
    "BASE62 = \"0123456789abcdefghijklmnopqrstuvwxyzABCDEFGHIJKLMNOPQRSTUVWXYZ\"\n",
    "\n",
    "def decode(string, alphabet=BASE62):\n",
    "    \"\"\"Decode a Base X encoded string into the number\n",
    "\n",
    "    Arguments:\n",
    "    - `string`: The encoded string\n",
    "    - `alphabet`: The alphabet to use for encoding\n",
    "    \"\"\"\n",
    "    base = len(alphabet)\n",
    "    strlen = len(string)\n",
    "    num = 0\n",
    "\n",
    "    idx = 0\n",
    "    for char in string:\n",
    "        power = (strlen - (idx + 1))\n",
    "        num += alphabet.index(char) * (base ** power)\n",
    "        idx += 1\n",
    "\n",
    "    return num\n",
    "\n",
    "\n",
    "def encode(num, alphabet=BASE62):\n",
    "    \"\"\"Encode a positive number in Base X\n",
    "\n",
    "    Arguments:\n",
    "    - `num`: The number to encode\n",
    "    - `alphabet`: The alphabet to use for encoding\n",
    "    \"\"\"\n",
    "    if num == 0:\n",
    "        return alphabet[0]\n",
    "    arr = []\n",
    "    base = len(alphabet)\n",
    "    while num:\n",
    "        num, rem = divmod(num, base)\n",
    "        arr.append(alphabet[rem])\n",
    "    arr.reverse()\n",
    "    return ''.join(arr)"
   ]
  },
  {
   "cell_type": "code",
   "execution_count": null,
   "metadata": {},
   "outputs": [],
   "source": []
  },
  {
   "cell_type": "code",
   "execution_count": null,
   "metadata": {},
   "outputs": [],
   "source": []
  },
  {
   "cell_type": "code",
   "execution_count": null,
   "metadata": {},
   "outputs": [],
   "source": []
  },
  {
   "cell_type": "code",
   "execution_count": 11,
   "metadata": {},
   "outputs": [
    {
     "data": {
      "text/plain": [
       "140714"
      ]
     },
     "execution_count": 11,
     "metadata": {},
     "output_type": "execute_result"
    }
   ],
   "source": [
    "decode(\"ABA\")"
   ]
  },
  {
   "cell_type": "code",
   "execution_count": 25,
   "metadata": {},
   "outputs": [
    {
     "data": {
      "text/plain": [
       "'p'"
      ]
     },
     "execution_count": 25,
     "metadata": {},
     "output_type": "execute_result"
    }
   ],
   "source": [
    "encode(25)"
   ]
  },
  {
   "cell_type": "code",
   "execution_count": null,
   "metadata": {},
   "outputs": [],
   "source": []
  },
  {
   "cell_type": "code",
   "execution_count": null,
   "metadata": {},
   "outputs": [],
   "source": []
  },
  {
   "cell_type": "code",
   "execution_count": null,
   "metadata": {},
   "outputs": [],
   "source": []
  },
  {
   "cell_type": "code",
   "execution_count": null,
   "metadata": {},
   "outputs": [],
   "source": []
  },
  {
   "cell_type": "code",
   "execution_count": null,
   "metadata": {},
   "outputs": [],
   "source": []
  },
  {
   "cell_type": "code",
   "execution_count": 27,
   "metadata": {},
   "outputs": [
    {
     "name": "stdout",
     "output_type": "stream",
     "text": [
      "361097996547231939420324315862125604148156665886431480862914942937732101183106158332978897913678986703118641\n"
     ]
    }
   ],
   "source": [
    "b= 62\n",
    "base = \"0123456789ABCDEFGHIJKLMNOPQRSTUVWXYZabcdefghijklmnopqrstuvwxyz\"\n",
    "limit = len(base)\n",
    "res = 0\n",
    "for i in range(62):\n",
    "    res = b * res + base.find(base[i])\n",
    "print(res)"
   ]
  },
  {
   "cell_type": "code",
   "execution_count": null,
   "metadata": {},
   "outputs": [],
   "source": []
  }
 ],
 "metadata": {
  "kernelspec": {
   "display_name": "Python 3",
   "language": "python",
   "name": "python3"
  },
  "language_info": {
   "codemirror_mode": {
    "name": "ipython",
    "version": 3
   },
   "file_extension": ".py",
   "mimetype": "text/x-python",
   "name": "python",
   "nbconvert_exporter": "python",
   "pygments_lexer": "ipython3",
   "version": "3.6.5"
  }
 },
 "nbformat": 4,
 "nbformat_minor": 2
}
