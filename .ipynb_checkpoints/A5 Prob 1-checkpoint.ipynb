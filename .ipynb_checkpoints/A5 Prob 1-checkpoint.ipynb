{
 "cells": [
  {
   "cell_type": "code",
   "execution_count": null,
   "metadata": {},
   "outputs": [],
   "source": [
    "class Stack:\n",
    "    def _init_(self):\n",
    "        self.items = []\n",
    "    \n",
    "    def push(self,item):\n",
    "        self.items.append(item)\n",
    "\n",
    "    def pop(self):\n",
    "        return self.items.pop()\n",
    "\n",
    "    def isEmpty(self):\n",
    "        return (self.items ==[])\n",
    "\n",
    "def evalPostfix(expr):\n",
    "    #expr = raw_input()\n",
    "    tokenList = expr.split(\" \")\n",
    "    s= Stack()\n",
    "    for token in tokenList:\n",
    "        if token == '' or token ==' ':\n",
    "            continue\n",
    "        if token =='+':\n",
    "            sum = s.pop() + s.pop()\n",
    "            s.push(sum)\n",
    "        elif token == '*':\n",
    "            product = s.pop() * s.pop()\n",
    "            s.push(product)\n",
    "        else:\n",
    "            s.push(int(token))\n",
    "    return s.pop()\n",
    "\n",
    "expr = raw_input()\n",
    "evalPostfix(expr)\n"
   ]
  },
  {
   "cell_type": "markdown",
   "metadata": {},
   "source": [
    "### Problem 1"
   ]
  },
  {
   "cell_type": "code",
   "execution_count": null,
   "metadata": {},
   "outputs": [],
   "source": [
    "class Stack():\n",
    "    def __init__(self):\n",
    "        #Initialize new empty stack\n",
    "        self.stack = []\n",
    "    \n",
    "    def push(self, data):\n",
    "        #Add new data to stack\n",
    "        self.stack.append(data)\n",
    "        \n",
    "    def pop(self):\n",
    "        #Remove and return data from stack (Last added data returned)\n",
    "        return self.stack.pop()\n",
    "    \n",
    "    def is_empty(self):\n",
    "        #Check for empty stack\n",
    "        return self.stack == []\n",
    "    \n",
    "    def peek(self):\n",
    "        if not self.is_empty():\n",
    "            return self.stack[-1]\n",
    "    \n",
    "    def get_stack(self):\n",
    "        return self.stack"
   ]
  },
  {
   "cell_type": "code",
   "execution_count": null,
   "metadata": {},
   "outputs": [],
   "source": [
    "# 1. Create a Reverse Polish Notation calculator\n",
    "import operator\n",
    "\n",
    "class RPN:\n",
    "    def process(self, value):\n",
    "        #Your process( ) method should handle \"+\", \"-\", \"*\", \"/\", and positive/negative numbers.\n",
    "        ops = {'+': operator.add, \n",
    "               '-': operator.sub,\n",
    "               '*': operator.mul,\n",
    "               '/': operator.floordiv}\n",
    "        \n",
    "        #When process( ) gets an operation, it should pop two values off the stack, \n",
    "        #perform the operation, then push the result back onto the stack. \n",
    "        stack = []\n",
    "        for val in expression:\n",
    "            result = None\n",
    "            if val in ops:\n",
    "                s2 = stack.pop()\n",
    "                s1 = stack.pop()\n",
    "                op = ops[val]\n",
    "                stack.push(op(s1, s2))\n",
    "            else:\n",
    "                result = float(val)\n",
    "            stack.append(result)\n",
    "        return stack.pop()\n",
    "    \n",
    "    def main():\n",
    "        while True:\n",
    "            expression = input(\"Calc>\")\n",
    "            if expression in ['quit','q','exit']:\n",
    "                exit()\n",
    "            elif len(expression)== 0:\n",
    "                continue\n",
    "            stack = process(expression.split(), stack)\n",
    "            print(stack)\n",
    "    main()"
   ]
  },
  {
   "cell_type": "code",
   "execution_count": null,
   "metadata": {},
   "outputs": [],
   "source": [
    "#The result( ) method should return the last value pushed on the stack.\n",
    "def result(stack):\n",
    "    if stack == []:\n",
    "        return None\n",
    "    else:\n",
    "        return stack[-1]"
   ]
  },
  {
   "cell_type": "code",
   "execution_count": null,
   "metadata": {},
   "outputs": [],
   "source": []
  },
  {
   "cell_type": "code",
   "execution_count": null,
   "metadata": {},
   "outputs": [],
   "source": [
    "#When process( ) gets an operation, it should pop two values off the stack, \n",
    "#perform the operation, then push the result back onto the stack. \n",
    "s1 = stack.pop()\n",
    "s2 = stack.pop()\n",
    "op = ops[token]\n",
    "stack.push(op(s2,s1)) "
   ]
  },
  {
   "cell_type": "code",
   "execution_count": null,
   "metadata": {},
   "outputs": [],
   "source": []
  },
  {
   "cell_type": "code",
   "execution_count": null,
   "metadata": {},
   "outputs": [],
   "source": [
    "stack = []\n",
    "\n",
    "def rpn(string):\n",
    "    for element in string:\n",
    "        if element in ['+', '-', '*', '/']:\n",
    "            int(oper1) = stack.pop()\n",
    "            int(oper2) = stack.pop()\n",
    "            if element == '+':\n",
    "                stack.append(oper1 + oper2)\n",
    "            elif element == '-':\n",
    "                stack.append(oper2 - oper1)\n",
    "            elif element == '*':\n",
    "                stack.append(oper1 * oper2)\n",
    "            else:\n",
    "                stack.append(oper2 / oper1)\n",
    "        stack.append(element)\n",
    "    return stack.pop()\n",
    "\n",
    "# Test routine\n",
    "TEST = '77*65+65+*+37*/'\n",
    "print(\"Inputting \" + TEST + \" into rpn:\")\n",
    "print(rpn(TEST))"
   ]
  },
  {
   "cell_type": "code",
   "execution_count": null,
   "metadata": {},
   "outputs": [],
   "source": [
    "public static void Main (string[] args) {\n",
    "    string test = Console.ReadLine();\n",
    "    if (test == \"rpn\") \n",
    "        var rpn = new RPN();\n",
    "        while (true) \n",
    "            rpn.Process(Console.ReadLine());\n",
    "            Console.WriteLine(\"=\" + rpn.Result());\n",
    "\n",
    "    if (test == \"remove_max\")\n",
    "        var s1 = new Stack<int>();\n",
    "        Console.ReadLine()\n",
    "            .Split(new[] {','})\n",
    "            .Select(Int32.Parse).ToList()\n",
    "            .ForEach(n => s1.Push(n));\n",
    "\n",
    "        Console.WriteLine(RemoveMax(s1));\n",
    "        Console.WriteLine(\n",
    "            string.Join(\n",
    "               \",\",\n",
    "               s1.Reverse().Select(i => i.ToString()).ToArray()));"
   ]
  },
  {
   "cell_type": "code",
   "execution_count": null,
   "metadata": {},
   "outputs": [
    {
     "name": "stdout",
     "output_type": "stream",
     "text": [
      "Calc>2\n",
      "= [2.0]\n",
      "Calc>3\n",
      "= [2.0, 3.0]\n",
      "Calc>+\n",
      "= [5.0]\n"
     ]
    }
   ],
   "source": [
    "import operator\n",
    "\n",
    "def process(tokens, stack):\n",
    "    #Your process( ) method should handle \"+\", \"-\", \"*\", \"/\", \n",
    "    #and positive/negative numbers.\n",
    "    ops = {'+': operator.add, \n",
    "       '-': operator.sub,\n",
    "       '*': operator.mul,\n",
    "       '/': operator.floordiv}\n",
    "    \n",
    "    for token in tokens:\n",
    "        if set(token).issubset(set(\"0123456789.\")):\n",
    "            stack.append(float(token))\n",
    "        elif token in ops:\n",
    "            a = stack.pop()\n",
    "            b = stack.pop()\n",
    "            op = ops[token]\n",
    "            stack.append(op(b,a))\n",
    "    return stack\n",
    "\n",
    "if __name__ == '__main__':\n",
    "    stack = []\n",
    "    while True:\n",
    "        readLine = input(\"Calc>\")\n",
    "        stack = process(readLine.split(), stack)\n",
    "        print(\"=\", stack)"
   ]
  },
  {
   "cell_type": "markdown",
   "metadata": {},
   "source": []
  },
  {
   "cell_type": "code",
   "execution_count": null,
   "metadata": {},
   "outputs": [],
   "source": []
  }
 ],
 "metadata": {
  "kernelspec": {
   "display_name": "Python 3",
   "language": "python",
   "name": "python3"
  },
  "language_info": {
   "codemirror_mode": {
    "name": "ipython",
    "version": 3
   },
   "file_extension": ".py",
   "mimetype": "text/x-python",
   "name": "python",
   "nbconvert_exporter": "python",
   "pygments_lexer": "ipython3",
   "version": "3.6.5"
  }
 },
 "nbformat": 4,
 "nbformat_minor": 2
}
