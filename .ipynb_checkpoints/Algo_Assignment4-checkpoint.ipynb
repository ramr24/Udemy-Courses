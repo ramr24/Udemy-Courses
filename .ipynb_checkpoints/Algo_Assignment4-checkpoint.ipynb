{
 "cells": [
  {
   "cell_type": "markdown",
   "metadata": {},
   "source": [
    "### Problem 1"
   ]
  },
  {
   "cell_type": "code",
   "execution_count": 1,
   "metadata": {},
   "outputs": [
    {
     "data": {
      "text/plain": [
       "'\\nGiven two sorted lists of integers, write a function merge \\nthat merges the two lists and produces a new sortedlist. \\nEither input list can be empty. For example:\\nA = [5, 10, 15, 20] \\nB = [3, 7, 13, 60] \\nC = merge(A, B) # C now equals [3, 5, 7, 10, 13, 15, 20, 60]\\n'"
      ]
     },
     "execution_count": 1,
     "metadata": {},
     "output_type": "execute_result"
    }
   ],
   "source": [
    "\"\"\"\n",
    "Given two sorted lists of integers, write a function merge \n",
    "that merges the two lists and produces a new sortedlist. \n",
    "Either input list can be empty. For example:\n",
    "A = [5, 10, 15, 20] \n",
    "B = [3, 7, 13, 60] \n",
    "C = merge(A, B) # C now equals [3, 5, 7, 10, 13, 15, 20, 60]\n",
    "\"\"\""
   ]
  },
  {
   "cell_type": "code",
   "execution_count": 2,
   "metadata": {},
   "outputs": [
    {
     "data": {
      "text/plain": [
       "[3, 5, 7, 10, 13, 15, 20, 60]"
      ]
     },
     "execution_count": 2,
     "metadata": {},
     "output_type": "execute_result"
    }
   ],
   "source": [
    "def merge(a, b):\n",
    "    mergeList = [] #empty list for merging list a and b\n",
    "    while (a or b):\n",
    "        if not b or (a and a[0] < b[0]): # list b is empty or list a has the next item\n",
    "            mergeList.append(a[0])\n",
    "            a.pop(0)\n",
    "        else: #list b has the next time\n",
    "            mergeList.append(b[0])\n",
    "            b.pop(0)\n",
    "    return mergeList\n",
    "\n",
    "a = [5, 10, 15, 20]\n",
    "b = [3, 7, 13, 60] \n",
    "merge(a,b)"
   ]
  },
  {
   "cell_type": "markdown",
   "metadata": {},
   "source": [
    "### Problem 2 & 3"
   ]
  },
  {
   "cell_type": "code",
   "execution_count": 3,
   "metadata": {},
   "outputs": [
    {
     "data": {
      "text/plain": [
       "\"\\nProblem 2\\nYou'll be using a simple linked list / node class for the next two problems. \\nKeep it simple — remember linked list nodes are just a value (data) and a pointer (next). \\nGiven a singly linked list, write a function, reverse_print(l), \\nthat prints the values of each node one line at a time and in reverse order. \\nFor example, calling the function with the list 1 -> 2 -> 3 would print: \\n3\\n2\\n1\\n\\nProblem 3\\nGiven the linked list, write a function, reverse(l), \\nthat returns a new linked list with the nodes in reverse order. \\nFor example, calling the function with the \\nlist 1 -> 2 -> 3 would return the list 3 -> 2 -> 1.\\n\""
      ]
     },
     "execution_count": 3,
     "metadata": {},
     "output_type": "execute_result"
    }
   ],
   "source": [
    "\"\"\"\n",
    "Problem 2\n",
    "You'll be using a simple linked list / node class for the next two problems. \n",
    "Keep it simple — remember linked list nodes are just a value (data) and a pointer (next). \n",
    "Given a singly linked list, write a function, reverse_print(l), \n",
    "that prints the values of each node one line at a time and in reverse order. \n",
    "For example, calling the function with the list 1 -> 2 -> 3 would print: \n",
    "3\n",
    "2\n",
    "1\n",
    "\n",
    "Problem 3\n",
    "Given the linked list, write a function, reverse(l), \n",
    "that returns a new linked list with the nodes in reverse order. \n",
    "For example, calling the function with the \n",
    "list 1 -> 2 -> 3 would return the list 3 -> 2 -> 1.\n",
    "\"\"\""
   ]
  },
  {
   "cell_type": "code",
   "execution_count": 4,
   "metadata": {},
   "outputs": [
    {
     "name": "stdout",
     "output_type": "stream",
     "text": [
      "Linked List:\n",
      "1\n",
      "2\n",
      "3\n",
      "[1, 2, 3]\n",
      "\n",
      "Reversed Linked List:\n",
      "3\n",
      "2\n",
      "1\n",
      "[3, 2, 1]\n"
     ]
    }
   ],
   "source": [
    "class Node:\n",
    "    def __init__(self, data=None, next=None):\n",
    "        self.data = data\n",
    "        self.next = next\n",
    "\n",
    "class LinkedList:\n",
    "    def __init__(self):\n",
    "        self.head = None #head points to null\n",
    "    \n",
    "    def append(self, data):\n",
    "        new_node = Node(data) #Creating a node\n",
    "        if self.head is None: #No node in list if null\n",
    "            self.head = new_node\n",
    "            return\n",
    "        last_node = self.head #Last node points to head\n",
    "        while last_node.next: #this goes until it is not null\n",
    "            last_node = last_node.next #Pointer pointing to null\n",
    "        last_node.next = new_node\n",
    "\n",
    "    def reverse(self):\n",
    "        prev = None #To keep track of previous node\n",
    "        cur = self.head #current node is head of list\n",
    "        while cur: #Runs until current node is not None(end of the list)\n",
    "            nxt = cur.next #points to next node\n",
    "            cur.next = prev #current node points to previous node          \n",
    "            prev = cur #previous node is the head\n",
    "            cur = nxt #current node is the next node\n",
    "        self.head = prev #reset head to the previous node\n",
    "\n",
    "    def print_value(self): \n",
    "        cur_node = self.head\n",
    "        while cur_node:\n",
    "            print(cur_node.data)\n",
    "            cur_node = cur_node.next \n",
    "        \n",
    "    def print_list(self):\n",
    "        full_list = []\n",
    "        curr = self.head\n",
    "        full_list.append(curr.data)\n",
    "        while curr.next:\n",
    "            curr = curr.next\n",
    "            full_list.append(curr.data)\n",
    "        print(full_list)\n",
    "    \n",
    "    def main(self):    \n",
    "        llist.append(1)\n",
    "        llist.append(2)\n",
    "        llist.append(3)\n",
    "        print(\"Linked List:\")\n",
    "        llist.print_value()\n",
    "        llist.print_list()\n",
    "        print()\n",
    "        print(\"Reversed Linked List:\")\n",
    "        llist.reverse() #Reverses linked list\n",
    "        llist.print_value() #Prints out the reversed linked list\n",
    "        llist.print_list()\n",
    "\n",
    "llist = LinkedList()       \n",
    "llist.main()"
   ]
  }
 ],
 "metadata": {
  "kernelspec": {
   "display_name": "Python 3",
   "language": "python",
   "name": "python3"
  },
  "language_info": {
   "codemirror_mode": {
    "name": "ipython",
    "version": 3
   },
   "file_extension": ".py",
   "mimetype": "text/x-python",
   "name": "python",
   "nbconvert_exporter": "python",
   "pygments_lexer": "ipython3",
   "version": "3.6.5"
  }
 },
 "nbformat": 4,
 "nbformat_minor": 2
}
