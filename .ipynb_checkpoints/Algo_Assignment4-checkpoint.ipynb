{
 "cells": [
  {
   "cell_type": "code",
   "execution_count": null,
   "metadata": {},
   "outputs": [],
   "source": [
    "def merge(a, b):\n",
    "  pass\n",
    "\n",
    "\n",
    "class Node:\n",
    "  def __init__(self, data=None, next=None):\n",
    "      self.data = data\n",
    "      self.next = next\n",
    "\n",
    "\n",
    "def reverse_print(x: Node) -> None:\n",
    "  pass\n",
    "\n",
    "\n",
    "def reverse(x: Node) -> Node:\n",
    "  pass"
   ]
  },
  {
   "cell_type": "markdown",
   "metadata": {},
   "source": [
    "### Tips from Lecture"
   ]
  },
  {
   "cell_type": "markdown",
   "metadata": {},
   "source": [
    "If a node knows to get to only one of its neighbors (next one), then it’s a singlylinked list."
   ]
  },
  {
   "cell_type": "code",
   "execution_count": null,
   "metadata": {},
   "outputs": [],
   "source": [
    "\"\"\"\n",
    "last node: points to null\n",
    "Node: 2 things below\n",
    "-contains data(integer, double or custom object)\n",
    "-contains reference point to next node\n",
    "Ex. \n",
    "class Node\n",
    "    data\n",
    "    Node nextNode\n",
    "*Linked listes can be used for stacks and queues\n",
    "-Can't use indexes because doesn't allow random access\n",
    "-sequential scanning of list elements\n",
    "-O(1) constant time complexity\n",
    "\n",
    "null is same as None in python\n",
    "-Null = Other programs\n",
    "-None = Python program\n",
    "\n",
    "\"\"\""
   ]
  },
  {
   "cell_type": "markdown",
   "metadata": {},
   "source": [
    "### Udemy Course"
   ]
  },
  {
   "cell_type": "code",
   "execution_count": null,
   "metadata": {},
   "outputs": [],
   "source": [
    "\"\"\"\n",
    "Udemy example:\n",
    "\"\"\"\n",
    "\n",
    "class Node:\n",
    "  def __init__(self, data): #Constructor\n",
    "      self.data = data;\n",
    "      self.nextNode = None;\n",
    "\n",
    "class LinkedList(object):\n",
    "    def __init__(self):\n",
    "        self.head = None;\n",
    "        self.size = 0;\n",
    "    \n",
    "    #O(1) = fast\n",
    "    def insertStart(self, data):\n",
    "        self.size = self.size + 1;\n",
    "        newNode = Node(data);\n",
    "        \n",
    "        if not self.head: #Heads = null, it is the first node\n",
    "            self.head = newNode; \n",
    "        else:\n",
    "            newNode.nextNode = self.head;\n",
    "            self.head = newNode\n",
    "    \n",
    "    #O(1) = fast\n",
    "    def size(self):\n",
    "        return self.size;\n",
    "    \n",
    "    #O(N) = not good, slower\n",
    "    def size2(self):\n",
    "        \n",
    "        acutalNode = self.head;\n",
    "        size = 0;\n",
    "        \n",
    "        while actualNode is not None:\n",
    "            size = size + 1 #OR size += 1\n",
    "            actualNode - actualNode.nextNode;\n",
    "        \n",
    "        return size;\n",
    "    \n",
    "    #O(N)\n",
    "    def insertEnd(self, data):\n",
    "        self.size = self.size + 1;\n",
    "        newNode = Node(data)\n",
    "        actualNode = self.head;\n",
    "        \n",
    "        while actualNode.nextNode is not None:\n",
    "            actualNode = actualNode.nextNode;\n",
    "        \n",
    "        actualNode.nextNode = newNode;\n",
    "        \n",
    "    def traverseList(self);\n",
    "        actualNode = self.head;\n",
    "        \n",
    "        while actualNode.nextNode is not None:\n",
    "            print(\"%d \" % actualNode.data);\n",
    "            actualNode = actualNode.nextNode;"
   ]
  },
  {
   "cell_type": "markdown",
   "metadata": {},
   "source": [
    "### Youtube Channel Linked Lists"
   ]
  },
  {
   "cell_type": "code",
   "execution_count": 20,
   "metadata": {},
   "outputs": [],
   "source": [
    "class Node:\n",
    "    def __init__(self, data):\n",
    "        self.data = data #data is the value(string, numbers, etc.)\n",
    "        self.next = None #Initially set to None"
   ]
  },
  {
   "cell_type": "markdown",
   "metadata": {},
   "source": [
    "#### Insertion"
   ]
  },
  {
   "cell_type": "code",
   "execution_count": 21,
   "metadata": {},
   "outputs": [
    {
     "name": "stdout",
     "output_type": "stream",
     "text": [
      "A\n",
      "B\n",
      "E\n",
      "C\n",
      "D\n"
     ]
    }
   ],
   "source": [
    "class LinkedList:\n",
    "    def __init__(self):\n",
    "        self.head = None #head points to null\n",
    "    \n",
    "    #Prints the list\n",
    "    def print_list(self): \n",
    "        cur_node = self.head\n",
    "        while cur_node:\n",
    "            print(cur_node.data)\n",
    "            cur_node = cur_node.next\n",
    "    \n",
    "    #Adds node to list\n",
    "    def append(self, data):\n",
    "        new_node = Node(data) #Creating a node\n",
    "        \n",
    "        #Check for empty list\n",
    "        if self.head is None: #No node in list if null\n",
    "            self.head = new_node\n",
    "            return\n",
    "        \n",
    "        #If you already have a list\n",
    "        last_node = self.head #Last node points to head\n",
    "        while last_node.next: #this goes until it is not null\n",
    "            last_node = last_node.next #Pointer pointing to null\n",
    "        last_node.next = new_node\n",
    "    \n",
    "    #Adds node before the head of the list\n",
    "    def prepend(self, data):\n",
    "        new_node = Node(data) #Creating a node\n",
    "        \n",
    "        new_node.next = self.head #New node points to the head\n",
    "        self.head = new_node #The new node is the head\n",
    "        \n",
    "    def insert_after_node(self, prev_node, data):\n",
    "        if not prev_node:\n",
    "            print(\"Previous node is not in the list\")\n",
    "            return\n",
    "        new_node = Node(data) #Creating a node\n",
    "        \n",
    "        new_node.next = prev_node.next #new node points to the previous as the new pointer\n",
    "        prev_node.next = new_node #previous node points to new node\n",
    "        \n",
    "#Prints output\n",
    "llist = LinkedList() #llist is short term for \n",
    "llist.append(\"A\")\n",
    "llist.append(\"B\")\n",
    "llist.append(\"C\")\n",
    "llist.append(\"D\")\n",
    "llist.insert_after_node(llist.head.next, \"E\") #Inserts E after B\n",
    "#llist.prepend(\"E\") #Adds to the beginning of the list\n",
    "\n",
    "llist.print_list() #prints the list\n",
    "#print(llist.head.data) #prints the head of the list\n",
    "#print(llist.head.next.data) #prints next node after head"
   ]
  },
  {
   "cell_type": "code",
   "execution_count": 22,
   "metadata": {},
   "outputs": [],
   "source": [
    "#Youtube Videos in Sequence\n",
    "#Deletion\n",
    "#Length\n",
    "#Reverse String\n",
    "#Node Swap\n",
    "#Reverse "
   ]
  },
  {
   "cell_type": "code",
   "execution_count": 25,
   "metadata": {},
   "outputs": [
    {
     "name": "stdout",
     "output_type": "stream",
     "text": [
      "D\n",
      "C\n",
      "B\n",
      "A\n"
     ]
    }
   ],
   "source": [
    "class Node:\n",
    "    def __init__(self, data):\n",
    "        self.data = data #data is the value(string, numbers, etc.)\n",
    "        self.next = None #Initially set to None\n",
    "\n",
    "class LinkedList:\n",
    "    def __init__(self):\n",
    "        self.head = None #head points to null\n",
    "    \n",
    "    def print_list(self): \n",
    "        cur_node = self.head\n",
    "        while cur_node:\n",
    "            print(cur_node.data)\n",
    "            cur_node = cur_node.next\n",
    "    \n",
    "    def append(self, data):\n",
    "        new_node = Node(data) #Creating a node\n",
    "        \n",
    "        if self.head is None: #No node in list if null\n",
    "            self.head = new_node\n",
    "            return\n",
    "\n",
    "        last_node = self.head #Last node points to head\n",
    "        while last_node.next: #this goes until it is not null\n",
    "            last_node = last_node.next #Pointer pointing to null\n",
    "        last_node.next = new_node\n",
    "    \n",
    "    def print_helper(self, node, name):\n",
    "        if node is None:\n",
    "            print(name + \": None\")\n",
    "        else:\n",
    "            print(name + \":\" + node.data)\n",
    "    \n",
    "    \n",
    "    def reverse_iterative(self):\n",
    "        prev = None #To keep track of previous node\n",
    "        cur = self.head #current node is head of list\n",
    "        while cur: #Runs until current node is not None(end of the list)\n",
    "            nxt = cur.next #points to next node\n",
    "            cur.next = prev #current node points to previous node          \n",
    "            prev = cur #previous node is the head\n",
    "            cur = nxt #current node is the next node\n",
    "        self.head = prev #reset head to the previous node\n",
    "        \n",
    "        \n",
    "        \n",
    "             #self.print_helper(prev, \"PREV\")\n",
    "            #self.print_helper(prev, \"CUR\")\n",
    "            #self.print_helper(prev, \"NXT\")       \n",
    "        \n",
    "        \n",
    "        \n",
    "        \n",
    "#Prints output\n",
    "llist = LinkedList() #llist is short term for \n",
    "llist.append(\"A\")\n",
    "llist.append(\"B\")\n",
    "llist.append(\"C\")\n",
    "llist.append(\"D\")       \n",
    "llist.reverse_iterative()\n",
    "llist.print_list()"
   ]
  },
  {
   "cell_type": "code",
   "execution_count": null,
   "metadata": {},
   "outputs": [],
   "source": []
  },
  {
   "cell_type": "code",
   "execution_count": null,
   "metadata": {},
   "outputs": [],
   "source": []
  },
  {
   "cell_type": "markdown",
   "metadata": {},
   "source": [
    "#### Reverse"
   ]
  },
  {
   "cell_type": "code",
   "execution_count": 19,
   "metadata": {},
   "outputs": [],
   "source": [
    "#Only flipping the pointer(.next) and value(.data) stays the same\n",
    "#A -> B -> C -> D -> None\n",
    "#A <- B <- C <- D <- None"
   ]
  },
  {
   "cell_type": "code",
   "execution_count": null,
   "metadata": {},
   "outputs": [],
   "source": []
  },
  {
   "cell_type": "code",
   "execution_count": null,
   "metadata": {},
   "outputs": [],
   "source": []
  },
  {
   "cell_type": "code",
   "execution_count": null,
   "metadata": {},
   "outputs": [],
   "source": []
  },
  {
   "cell_type": "code",
   "execution_count": null,
   "metadata": {},
   "outputs": [],
   "source": []
  },
  {
   "cell_type": "markdown",
   "metadata": {},
   "source": [
    "### Problem 1--DONE"
   ]
  },
  {
   "cell_type": "code",
   "execution_count": 13,
   "metadata": {},
   "outputs": [
    {
     "data": {
      "text/plain": [
       "'\\nGiven two sorted lists of integers, write a function merge \\nthat merges the two lists and produces a new sortedlist. \\nEither input list can be empty. For example:\\nA = [5, 10, 15, 20] \\nB = [3, 7, 13, 60] \\nC = merge(A, B) # C now equals [3, 5, 7, 10, 13, 15, 20, 60]\\n'"
      ]
     },
     "execution_count": 13,
     "metadata": {},
     "output_type": "execute_result"
    }
   ],
   "source": [
    "\"\"\"\n",
    "Given two sorted lists of integers, write a function merge \n",
    "that merges the two lists and produces a new sortedlist. \n",
    "Either input list can be empty. For example:\n",
    "A = [5, 10, 15, 20] \n",
    "B = [3, 7, 13, 60] \n",
    "C = merge(A, B) # C now equals [3, 5, 7, 10, 13, 15, 20, 60]\n",
    "\"\"\""
   ]
  },
  {
   "cell_type": "code",
   "execution_count": 14,
   "metadata": {},
   "outputs": [],
   "source": [
    "def merge(a, b):\n",
    "    mergeList = [] #empty list for merging list a and b\n",
    "    while (a or b):\n",
    "        if not b or (a and a[0] < b[0]): # list b is empty or list a has the next item\n",
    "            mergeList.append(a[0])\n",
    "            a.pop(0)\n",
    "        else: #list b has the next time\n",
    "            mergeList.append(b[0])\n",
    "            b.pop(0)\n",
    "    return mergeList"
   ]
  },
  {
   "cell_type": "code",
   "execution_count": 17,
   "metadata": {},
   "outputs": [
    {
     "data": {
      "text/plain": [
       "[3, 5, 7, 10, 13, 15, 20, 60]"
      ]
     },
     "execution_count": 17,
     "metadata": {},
     "output_type": "execute_result"
    }
   ],
   "source": [
    "a = [5, 10, 15, 20]\n",
    "b = [3, 7, 13, 60] \n",
    "merge(a,b)"
   ]
  },
  {
   "cell_type": "markdown",
   "metadata": {},
   "source": [
    "### Problem 2 & 3--NOT DONE"
   ]
  },
  {
   "cell_type": "code",
   "execution_count": 35,
   "metadata": {},
   "outputs": [
    {
     "data": {
      "text/plain": [
       "\"\\nProblem 2\\nYou'll be using a simple linked list / node class for the next two problems. \\nKeep it simple — remember linked list nodes are just a value (data) and a pointer (next). \\nGiven a singly linked list, write a function, reverse_print(l), \\nthat prints the values of each node one line at a time and in reverse order. \\nFor example, calling the function with the list 1 -> 2 -> 3 would print: \\n3\\n2\\n1\\n\\nProblem 3\\nGiven the linked list, write a function, reverse(l), \\nthat returns a new linked list with the nodes in reverse order. \\nFor example, calling the function with the \\nlist 1 -> 2 -> 3 would return the list 3 -> 2 -> 1.\\n\""
      ]
     },
     "execution_count": 35,
     "metadata": {},
     "output_type": "execute_result"
    }
   ],
   "source": [
    "\"\"\"\n",
    "Problem 2\n",
    "You'll be using a simple linked list / node class for the next two problems. \n",
    "Keep it simple — remember linked list nodes are just a value (data) and a pointer (next). \n",
    "Given a singly linked list, write a function, reverse_print(l), \n",
    "that prints the values of each node one line at a time and in reverse order. \n",
    "For example, calling the function with the list 1 -> 2 -> 3 would print: \n",
    "3\n",
    "2\n",
    "1\n",
    "\n",
    "Problem 3\n",
    "Given the linked list, write a function, reverse(l), \n",
    "that returns a new linked list with the nodes in reverse order. \n",
    "For example, calling the function with the \n",
    "list 1 -> 2 -> 3 would return the list 3 -> 2 -> 1.\n",
    "\"\"\""
   ]
  },
  {
   "cell_type": "code",
   "execution_count": 45,
   "metadata": {},
   "outputs": [],
   "source": [
    "class Node:\n",
    "    def __init__(self, data):\n",
    "        self.data = data #data is the value(string, numbers, etc.)\n",
    "        self.next = None #Initially set to None"
   ]
  },
  {
   "cell_type": "code",
   "execution_count": 46,
   "metadata": {},
   "outputs": [
    {
     "name": "stdout",
     "output_type": "stream",
     "text": [
      "3\n",
      "2\n",
      "1\n"
     ]
    }
   ],
   "source": [
    "class LinkedList:\n",
    "    def __init__(self):\n",
    "        self.head = None #head points to null\n",
    "    \n",
    "    def append(self, data):\n",
    "        new_node = Node(data) #Creating a node\n",
    "        \n",
    "        if self.head is None: #No node in list if null\n",
    "            self.head = new_node\n",
    "            return\n",
    "\n",
    "        last_node = self.head #Last node points to head\n",
    "        while last_node.next: #this goes until it is not null\n",
    "            last_node = last_node.next #Pointer pointing to null\n",
    "        last_node.next = new_node\n",
    "    \n",
    "    def reverse_print(self): \n",
    "        cur_node = self.head\n",
    "        while cur_node:\n",
    "            print(cur_node.data)\n",
    "            cur_node = cur_node.next\n",
    "\n",
    "    def reverse(self):\n",
    "        prev = None #To keep track of previous node\n",
    "        cur = self.head #current node is head of list\n",
    "        while cur: #Runs until current node is not None(end of the list)\n",
    "            nxt = cur.next #points to next node\n",
    "            cur.next = prev #current node points to previous node          \n",
    "            prev = cur #previous node is the head\n",
    "            cur = nxt #current node is the next node\n",
    "        self.head = prev #reset head to the previous node\n",
    "\n",
    "#Print output        \n",
    "llist = LinkedList()\n",
    "llist.append(\"1\")\n",
    "llist.append(\"2\")\n",
    "llist.append(\"3\")    \n",
    "llist.reverse() #Reverses linked list\n",
    "llist.reverse_print() #Prints out the reversed linked list"
   ]
  },
  {
   "cell_type": "code",
   "execution_count": null,
   "metadata": {},
   "outputs": [],
   "source": []
  }
 ],
 "metadata": {
  "kernelspec": {
   "display_name": "Python 3",
   "language": "python",
   "name": "python3"
  },
  "language_info": {
   "codemirror_mode": {
    "name": "ipython",
    "version": 3
   },
   "file_extension": ".py",
   "mimetype": "text/x-python",
   "name": "python",
   "nbconvert_exporter": "python",
   "pygments_lexer": "ipython3",
   "version": "3.6.5"
  }
 },
 "nbformat": 4,
 "nbformat_minor": 2
}
