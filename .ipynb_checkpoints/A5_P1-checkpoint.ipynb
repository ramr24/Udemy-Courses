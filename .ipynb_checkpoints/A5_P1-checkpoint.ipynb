{
 "cells": [
  {
   "cell_type": "markdown",
   "metadata": {},
   "source": [
    "### Problem 1"
   ]
  },
  {
   "cell_type": "code",
   "execution_count": 1,
   "metadata": {},
   "outputs": [],
   "source": [
    "import operator"
   ]
  },
  {
   "cell_type": "code",
   "execution_count": 2,
   "metadata": {},
   "outputs": [],
   "source": [
    "class Stack:\n",
    "    def __init__(self):\n",
    "        self.items = []\n",
    "    \n",
    "    def push(self, item):\n",
    "        self.items.append(item)\n",
    "        \n",
    "    def pop(self):\n",
    "        return self.items.pop()\n",
    "    \n",
    "    def is_empty(self):\n",
    "        return self.items == []\n",
    "\n",
    "    def get_stack(self):\n",
    "        return self.items\n",
    "    \n",
    "    def result(self):\n",
    "        if not self.is_empty():\n",
    "            return self.items[-1]"
   ]
  },
  {
   "cell_type": "code",
   "execution_count": 3,
   "metadata": {},
   "outputs": [],
   "source": [
    "def process(expr):\n",
    "    import re\n",
    "    s = Stack()\n",
    "    token_list = re.split(\"([^0-9])\", expr)\n",
    "    \n",
    "    operators = {'+': operator.add, \n",
    "                 '-': operator.sub,\n",
    "                 '*': operator.mul,\n",
    "                 '/': operator.floordiv}\n",
    "    \n",
    "    for token in token_list:\n",
    "        if token == \"\" or token == \" \":\n",
    "            continue\n",
    "        if token in operators:\n",
    "            operand2 = s.pop()\n",
    "            operand1 = s.pop()\n",
    "            result = operators[token]\n",
    "            s.push(result(operand1,operand2))\n",
    "        else:\n",
    "            s.push(int(token))\n",
    "    return s.result()"
   ]
  },
  {
   "cell_type": "code",
   "execution_count": 4,
   "metadata": {},
   "outputs": [
    {
     "data": {
      "text/plain": [
       "6"
      ]
     },
     "execution_count": 4,
     "metadata": {},
     "output_type": "execute_result"
    }
   ],
   "source": [
    "process('5 4 + 9 3 -')"
   ]
  },
  {
   "cell_type": "code",
   "execution_count": 6,
   "metadata": {},
   "outputs": [],
   "source": [
    "def process(expr):\n",
    "    import re\n",
    "    s = Stack()\n",
    "    token_list = re.split(\"([^0-9])\", expr)\n",
    "    \n",
    "    for token in token_list:\n",
    "        if token == \"\" or token == \" \":\n",
    "            continue\n",
    "        if token == \"+\":\n",
    "            add = s.pop() + s.pop()\n",
    "            s.push(add)\n",
    "        elif token == \"-\":\n",
    "            sub = -s.pop() + s.pop()\n",
    "            s.push(sub)\n",
    "        elif token == \"*\":\n",
    "            mul = s.pop() * s.pop()\n",
    "            s.push(mul)\n",
    "        elif token == \"/\":\n",
    "            div = s.pop() // s.pop()\n",
    "            s.push(div)\n",
    "        else:\n",
    "            s.push(int(token))\n",
    "    return s.result()"
   ]
  },
  {
   "cell_type": "code",
   "execution_count": 7,
   "metadata": {},
   "outputs": [
    {
     "data": {
      "text/plain": [
       "6"
      ]
     },
     "execution_count": 7,
     "metadata": {},
     "output_type": "execute_result"
    }
   ],
   "source": [
    "process('5 4 + 9 3 -')"
   ]
  },
  {
   "cell_type": "markdown",
   "metadata": {},
   "source": [
    "### Problem 2"
   ]
  },
  {
   "cell_type": "code",
   "execution_count": null,
   "metadata": {},
   "outputs": [],
   "source": []
  },
  {
   "cell_type": "code",
   "execution_count": null,
   "metadata": {},
   "outputs": [],
   "source": []
  },
  {
   "cell_type": "markdown",
   "metadata": {},
   "source": [
    "### Extra Ways"
   ]
  },
  {
   "cell_type": "code",
   "execution_count": null,
   "metadata": {},
   "outputs": [],
   "source": [
    "import operator"
   ]
  },
  {
   "cell_type": "code",
   "execution_count": null,
   "metadata": {},
   "outputs": [],
   "source": [
    "def process(expr):\n",
    "    stack = Stack()\n",
    "    tokenList = expr.split()\n",
    "\n",
    "    operators = {'+': operator.add, \n",
    "                 '-': operator.sub,\n",
    "                 '*': operator.mul,\n",
    "                 '/': operator.floordiv}\n",
    "\n",
    "    for token in tokenList:\n",
    "        if token in \"0123456789\":\n",
    "            stack.push(int(token))\n",
    "        elif token in operators:\n",
    "            operand2 = stack.pop()\n",
    "            operand1 = stack.pop()\n",
    "            result = operators[token]\n",
    "            stack.push(result(operand1,operand2))\n",
    "    return stack.pop()\n",
    "\n",
    "if __name__ == '__main__':\n",
    "    print(process('1 2 3 *'))"
   ]
  },
  {
   "cell_type": "code",
   "execution_count": null,
   "metadata": {},
   "outputs": [],
   "source": [
    "def process(tokens, stack):\n",
    "    operators = {'+': operator.add, \n",
    "                 '-': operator.sub,\n",
    "                 '*': operator.mul,\n",
    "                 '/': operator.floordiv}\n",
    "    \n",
    "    for token in tokens:\n",
    "        if token in \"0123456789\":\n",
    "            stack.append(int(token))\n",
    "        elif token in operators:\n",
    "            operand2 = stack.pop()\n",
    "            operand1 = stack.pop()\n",
    "            result = operators[token]\n",
    "            stack.append(result(operand1,operand2))\n",
    "    return stack\n",
    "\n",
    "if __name__ == '__main__':\n",
    "    stack = []\n",
    "    while True:\n",
    "        readLine = input(\"Calc>\").split()\n",
    "        stack = process(readLine, stack)\n",
    "        print(\"=\", stack)"
   ]
  }
 ],
 "metadata": {
  "kernelspec": {
   "display_name": "Python 3",
   "language": "python",
   "name": "python3"
  },
  "language_info": {
   "codemirror_mode": {
    "name": "ipython",
    "version": 3
   },
   "file_extension": ".py",
   "mimetype": "text/x-python",
   "name": "python",
   "nbconvert_exporter": "python",
   "pygments_lexer": "ipython3",
   "version": "3.6.5"
  }
 },
 "nbformat": 4,
 "nbformat_minor": 2
}
