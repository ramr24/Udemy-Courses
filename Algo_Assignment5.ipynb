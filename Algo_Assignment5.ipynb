{
 "cells": [
  {
   "cell_type": "code",
   "execution_count": 1,
   "metadata": {},
   "outputs": [],
   "source": [
    "# 1. Create a Reverse Polish Notation calculator\n",
    "class RPN:\n",
    "  def process(self, value):\n",
    "    pass\n",
    "  \n",
    "  def result(self):\n",
    "    pass\n",
    "\n",
    "# 2. Write a method that removes the maximum value from a stack\n",
    "def remove_max(values):\n",
    "  pass"
   ]
  },
  {
   "cell_type": "code",
   "execution_count": null,
   "metadata": {},
   "outputs": [],
   "source": [
    "class Stack():\n",
    "    def __init__(self):\n",
    "        self.stack = []\n",
    "    \n",
    "    def push(self, data):\n",
    "        return self.stack.append(val)\n",
    "        \n",
    "    def pop(self):\n",
    "        if self.is_empty():\n",
    "            return None\n",
    "        return self.stack.pop()\n",
    "    \n",
    "    def is_empty(self):\n",
    "        return self.size() == 0\n",
    "    \n",
    "    def peek(self):\n",
    "        if self.is_empty():\n",
    "            return None\n",
    "        else:\n",
    "            return self.stack[-1]\n",
    "    \n",
    "    def size(self):\n",
    "        return len(self.stack)\n",
    "    \n",
    "class Queue:\n",
    "    def __init__(self):\n",
    "        self.queue = []\n",
    "    \n",
    "    def enqueue(self, val):\n",
    "        self.queue.insert(0, val)\n",
    "        \n",
    "    def dequeue(self):\n",
    "        if self.is_empty():\n",
    "            return None\n",
    "        else:\n",
    "            return self.queue.pop()\n",
    "    \n",
    "    def size(self):\n",
    "        return len(self.queue)\n",
    "    \n",
    "    def is_empty(self):\n",
    "        return self.size() == 0"
   ]
  },
  {
   "cell_type": "code",
   "execution_count": null,
   "metadata": {},
   "outputs": [],
   "source": [
    "def main():\n",
    "    while True:\n",
    "        expr = input('Enter expressioN: ').strip()\n",
    "        if expr:\n",
    "            try:\n",
    "                print(\"  = \")"
   ]
  },
  {
   "cell_type": "code",
   "execution_count": null,
   "metadata": {},
   "outputs": [],
   "source": [
    "def RPN_Generalised_Operators(expression): #https://stackoverflow.com/a/37770871/5482177\n",
    "    ops = {'*': operator.mul, '/': safe_divide, '+': operator.add, '-': operator.sub}\n",
    "    expression = expression.split(\" \")\n",
    "    stack = []\n",
    "    for val in expression:\n",
    "        result = None\n",
    "        if val in ops:\n",
    "            s2 = stack.pop()\n",
    "            s1 = stack.pop()\n",
    "            result = ops[val](s1, s2)\n",
    "        else:\n",
    "            result = float(val)\n",
    "        stack.append(result)\n",
    "    return stack.pop()"
   ]
  },
  {
   "cell_type": "markdown",
   "metadata": {},
   "source": [
    "### Problem 1"
   ]
  },
  {
   "cell_type": "code",
   "execution_count": null,
   "metadata": {},
   "outputs": [],
   "source": [
    "\"\"\"\n",
    "1. Create a Reverse Polish Notation (RPN) calculator using a stack.\n",
    "rpn = new RPN\n",
    "\n",
    "while (true)\n",
    "{\n",
    "  string str = readLineFromKeyboard( )\n",
    "\n",
    "  rpn.process(str)\n",
    "\n",
    "  print(\"=\" + rpn.result( ))\n",
    "}\n",
    "\n",
    "Your process( ) method should handle \"+\", \"-\", \"*\", \"/\", and positive/negative numbers.\n",
    "When process( ) gets a number, it should push the number onto the stack.\n",
    "When process( ) gets an operation, it should pop two values off the stack, perform the operation, then push the result back onto the stack. \n",
    "The result( ) method should return the last value pushed on the stack.\n",
    "\n",
    "Hint: Your process() method should explicitly handle the operations and if it's not an operation, assume it's a number and push that number on the stack.\n",
    "\n",
    "Scenario: \n",
    "In RPN, \"5 ENTER 4 ENTER + ENTER 3 ENTER - ENTER\" yields a value of 6.\n",
    "Calc>5\n",
    "=5\n",
    "Calc>4\n",
    "=4\n",
    "Calc>+\n",
    "=9\n",
    "Calc>3\n",
    "=3\n",
    "Calc>-\n",
    "=6\n",
    "\"\"\""
   ]
  },
  {
   "cell_type": "code",
   "execution_count": 3,
   "metadata": {},
   "outputs": [],
   "source": [
    "import operator"
   ]
  },
  {
   "cell_type": "code",
   "execution_count": 4,
   "metadata": {},
   "outputs": [],
   "source": [
    "class Stack():\n",
    "    \n",
    "    def __init__(self):\n",
    "        #Initialize new empty stack\n",
    "        self.stack = []\n",
    "    \n",
    "    def push(self, data):\n",
    "        #Add new data to stack\n",
    "        self.stack.append(data)\n",
    "        \n",
    "    def pop(self):\n",
    "        #Remove and return data from stack (Last added data returned)\n",
    "        return self.stack.pop()\n",
    "    \n",
    "    def is_empty(self):\n",
    "        #Check for empty stack\n",
    "        return self.stack == []\n",
    "    \n",
    "    def peek(self): #or get_stack\n",
    "        if not self.is_empty():\n",
    "            return self.stack[-1]\n",
    "    \n",
    "    def get_stack(self):\n",
    "        return self.stack\n",
    "\n",
    "s = Stack()"
   ]
  },
  {
   "cell_type": "code",
   "execution_count": null,
   "metadata": {},
   "outputs": [],
   "source": []
  },
  {
   "cell_type": "code",
   "execution_count": 6,
   "metadata": {},
   "outputs": [],
   "source": [
    "# 1. Create a Reverse Polish Notation calculator\n",
    "class RPN:\n",
    "    def process(self, value):\n",
    "        \n",
    "        ops = {'+': operator.add, \n",
    "               '-': operator.sub, \n",
    "               '*': operator.mul, \n",
    "               '/': operator.div}\n",
    "        \n",
    "        #Your process( ) method should handle \"+\", \"-\", \"*\", \"/\", and positive/negative numbers.\n",
    "        #When process( ) gets a number, it should push the number onto the stack.\n",
    "        #When process( ) gets an operation, it should pop two values off the stack, \n",
    "        #perform the operation, then push the result back onto the stack. \n",
    "        pass\n",
    "\n",
    "\n",
    "  \n",
    "    def result(self):\n",
    "        #The result( ) method should return the last value pushed on the stack.\n",
    "        pass\n",
    "\n"
   ]
  },
  {
   "cell_type": "code",
   "execution_count": null,
   "metadata": {},
   "outputs": [],
   "source": [
    "def result(stack):\n",
    "    if stack == []:\n",
    "        return None\n",
    "    else:\n",
    "        return stack[-1]"
   ]
  },
  {
   "cell_type": "code",
   "execution_count": null,
   "metadata": {},
   "outputs": [],
   "source": []
  },
  {
   "cell_type": "code",
   "execution_count": null,
   "metadata": {},
   "outputs": [],
   "source": []
  },
  {
   "cell_type": "code",
   "execution_count": null,
   "metadata": {},
   "outputs": [],
   "source": []
  },
  {
   "cell_type": "markdown",
   "metadata": {},
   "source": [
    "### Problem 2"
   ]
  },
  {
   "cell_type": "markdown",
   "metadata": {},
   "source": [
    "### Answer on lecture"
   ]
  },
  {
   "cell_type": "code",
   "execution_count": null,
   "metadata": {},
   "outputs": [],
   "source": [
    "\"\"\"\n",
    "2. Write a function remove_max(values), given the following specifications:\n",
    "Takes a stack of integers as a parameter\n",
    "Removes the maximum value from the stack, and returns that value.\n",
    "The order of other values in the stack should NOT be changed.\n",
    "\n",
    "Example:  \n",
    "# Lets say the stack s1 contains:  \n",
    "# bottom { 7, 77, 88, 2, 97, 5, 117, 107, 61, 107, 52 } top\n",
    "# You call remove_max() on this stack\n",
    "\n",
    "maxValue = remove_max(s1);\n",
    "# maxValue will contain 117\n",
    "\n",
    "# Now, the stack s1 will look like:  \n",
    "# bottom { 7, 77, 88, 2, 97, 5, 107, 61, 107, 52 } top\n",
    "\n",
    "More specifications:\n",
    "If there are multiple instances of the maximum value, RemoveMax should remove all of those.  \n",
    "Example: On the stack s1 above, lets say we call RemoveMax again, \n",
    "then we should get the following resultant stack: bottomOfStack { 7, 77, 88, 2, 97, 5, 61, 52 } topOfStack\n",
    "You can use only one queue as auxiliary storage.\n",
    "You cannot use any other data structure in your code.\n",
    "Of course, using built in primitive type variables is ok (like, integer, etc)\n",
    "\"\"\""
   ]
  },
  {
   "cell_type": "code",
   "execution_count": null,
   "metadata": {},
   "outputs": [],
   "source": [
    "# 2. Write a method that removes the maximum value from a stack\n",
    "def remove_max(values):\n",
    "    pass"
   ]
  },
  {
   "cell_type": "code",
   "execution_count": null,
   "metadata": {},
   "outputs": [],
   "source": [
    "def popMax(self): #remove_max\n",
    "    m = self[-1][1]\n",
    "    b = []\n",
    "    while self[-1][0] != m:\n",
    "        b.append(self.pop())\n",
    "\n",
    "    self.pop()\n",
    "    map(self.push, reversed(b))\n",
    "    return m"
   ]
  },
  {
   "cell_type": "code",
   "execution_count": null,
   "metadata": {},
   "outputs": [],
   "source": []
  },
  {
   "cell_type": "code",
   "execution_count": null,
   "metadata": {},
   "outputs": [],
   "source": [
    "queue1 = Queue(stack.count);\n",
    "maxElement = -11111\n",
    "\n",
    "def Remove_max():\n",
    "    queue1 = Queue(stack.count);\n",
    "    maxElement = -11111\n",
    "    \n",
    "    while(stack.count > 0):\n",
    "        element = stack.pop();\n",
    "        maxElement = math.max(maxElement, element);\n",
    "        queue1.enqueue(element)\n",
    "\n",
    "    while(queue1.count > 0):\n",
    "        element = queue1.dequeue();\n",
    "        if(element != maxElement)\n",
    "            stack.push(element)\n",
    "\n",
    "    while(stack.count > 0)\n",
    "        queue1.enqueue(stack.pop());\n",
    "\n",
    "    while(queue1.count > 0)\n",
    "        stack.push(queue1.dequeue());\n",
    "    return maxElement\n",
    "\n",
    "\n"
   ]
  },
  {
   "cell_type": "code",
   "execution_count": null,
   "metadata": {},
   "outputs": [],
   "source": []
  },
  {
   "cell_type": "code",
   "execution_count": null,
   "metadata": {},
   "outputs": [],
   "source": []
  },
  {
   "cell_type": "code",
   "execution_count": null,
   "metadata": {},
   "outputs": [],
   "source": []
  },
  {
   "cell_type": "markdown",
   "metadata": {},
   "source": [
    "### Balanced Parenthesis"
   ]
  },
  {
   "cell_type": "code",
   "execution_count": null,
   "metadata": {},
   "outputs": [],
   "source": [
    "class Stack():\n",
    "    \n",
    "    def __init__(self):\n",
    "        #Initialize new empty stack\n",
    "        self.stack = []\n",
    "    \n",
    "    def push(self, data):\n",
    "        #Add new data to stack\n",
    "        self.stack.append(data)\n",
    "        \n",
    "    def pop(self):\n",
    "        #Remove and return data from stack (Last added data returned)\n",
    "        return self.stack.pop()\n",
    "    \n",
    "    def is_empty(self):\n",
    "        #Check for empty stack\n",
    "        return self.stack == []\n",
    "    \n",
    "    def peek(self): #or get_stack\n",
    "        if not self.is_empty():\n",
    "            return self.stack[-1]\n",
    "    \n",
    "    def get_stack(self):\n",
    "        return self.stack"
   ]
  },
  {
   "cell_type": "code",
   "execution_count": null,
   "metadata": {},
   "outputs": [],
   "source": []
  },
  {
   "cell_type": "code",
   "execution_count": null,
   "metadata": {},
   "outputs": [],
   "source": []
  },
  {
   "cell_type": "code",
   "execution_count": null,
   "metadata": {},
   "outputs": [],
   "source": []
  }
 ],
 "metadata": {
  "kernelspec": {
   "display_name": "Python 3",
   "language": "python",
   "name": "python3"
  },
  "language_info": {
   "codemirror_mode": {
    "name": "ipython",
    "version": 3
   },
   "file_extension": ".py",
   "mimetype": "text/x-python",
   "name": "python",
   "nbconvert_exporter": "python",
   "pygments_lexer": "ipython3",
   "version": "3.6.5"
  }
 },
 "nbformat": 4,
 "nbformat_minor": 2
}
