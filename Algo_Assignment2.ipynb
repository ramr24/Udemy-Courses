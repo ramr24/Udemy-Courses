{
 "cells": [
  {
   "cell_type": "markdown",
   "metadata": {},
   "source": [
    "### Lab"
   ]
  },
  {
   "cell_type": "code",
   "execution_count": 1,
   "metadata": {},
   "outputs": [
    {
     "data": {
      "text/plain": [
       "'\\nQuiz #1:\\nLSB = 1 then it is an odd number\\nLSB = 0 then it is an even number\\n\\nBase N maximum digit = n-1\\nUnsigned (binary) maximum number in 32 bits?: 2^(n-1) = 2^32-1 \\nNumber shifted RIGHT by 3 places (binary) = divided by 2 of total 3 times (divided by 8)\\nNumber shifted LEFT by 3 places (binary) = multiply by 2 of total 3 times (multiply by 8)\\n\\nFragmented = heap\\nkeyword new in program, memory allocated from: heap\\n'"
      ]
     },
     "execution_count": 1,
     "metadata": {},
     "output_type": "execute_result"
    }
   ],
   "source": [
    "\"\"\"\n",
    "Quiz #1:\n",
    "LSB = 1 then it is an odd number\n",
    "LSB = 0 then it is an even number\n",
    "\n",
    "Base N maximum digit = n-1\n",
    "Unsigned (binary) maximum number in 32 bits?: 2^(n-1) = 2^32-1 \n",
    "Number shifted RIGHT by 3 places (binary) = divided by 2 of total 3 times (divided by 8)\n",
    "Number shifted LEFT by 3 places (binary) = multiply by 2 of total 3 times (multiply by 8)\n",
    "\n",
    "Fragmented = heap\n",
    "keyword new in program, memory allocated from: heap\n",
    "\"\"\""
   ]
  },
  {
   "cell_type": "code",
   "execution_count": null,
   "metadata": {},
   "outputs": [],
   "source": [
    "\"\"\"\n",
    "Big O Analysis\n",
    "-Big O: speed of execution\n",
    "-N = number of elements the alogrithm\n",
    "\n",
    "-When doing a Big O analysis for execution time, we are trying to\n",
    "figure out how execution time is expected to change with change in\n",
    "input size (called N). \n",
    "-If sorting 10,000 numbers, the N here is 10,000.\n",
    "-If computing factorial of 10, N is 10.\n",
    "\n",
    "\n",
    "\n",
    "\"\"\""
   ]
  },
  {
   "cell_type": "code",
   "execution_count": null,
   "metadata": {},
   "outputs": [],
   "source": [
    "\"\"\"\n",
    "O(1)\n",
    "\n",
    "void MyFunction( int [] intArray, int N ) {\n",
    "print (“Number of items passed to MyFunction : “ , N );\n",
    "}\n",
    "\n",
    "-Ex. prints value of N (doesn't depend on size of input)\n",
    " takes same time to execute\n",
    "-printing number of items\n",
    "-order(1) is not indicate it is fast \n",
    "-Time doesn't depend on size of input\n",
    "\"\"\""
   ]
  },
  {
   "cell_type": "code",
   "execution_count": null,
   "metadata": {},
   "outputs": [],
   "source": [
    "\"\"\"\n",
    "O(N)\n",
    " \n",
    "Ex.  void MyFunction( int [] intArray, int N ) {\n",
    "        int sum = 0;\n",
    "        for ii = 0 to ii < N {\n",
    "            sum = sum + intArray[ii];\n",
    "    }\n",
    "\n",
    "-for loop is executed N times\n",
    "1st call: N = 10\n",
    "2nd call: N = 1,000,000,000 (1 billion)\n",
    "-Number of iteration of the loop changes at same rate as N\n",
    "-If N doubles, so do number of iterations \n",
    "-If N is halved, so do number of iterations\n",
    "\n",
    "Ex: Finding a max element in an unsorted array\n",
    "-Have to go through array to find an element\n",
    "Ex: Finding all elements with a certain value in an unsorted array\n",
    "-Have to go through the whole array\n",
    "Ex: Finding if an element exists in an unsorted array\n",
    "-To find a specific element in an array \n",
    "-Best case scenario: 1 (1st element)\n",
    "-Worst case scenario: N (last element)\n",
    "\n",
    "\n",
    "void MyFunction( int [] intArray, int N )\n",
    "{\n",
    "for ii = 0 to ii < N\n",
    "{\n",
    "print ( intArray[ii] );\n",
    "}\n",
    "}\n",
    "\n",
    "\n",
    "\"\"\""
   ]
  },
  {
   "cell_type": "code",
   "execution_count": null,
   "metadata": {},
   "outputs": [],
   "source": [
    "\"\"\"\n",
    "O(N^2) is called Quadratic\n",
    "\n",
    "-O(N2) algorithms are usually more expensive than O(1) or O(N) algorithms.\n",
    "-This is because their run time grows at a rate of square of the input size.\n",
    "-If input size goes from, say, 10 to 100\n",
    "    -It is a 10 times growth in input.\n",
    "    -The run time growth here will be from 100 to 10,000\n",
    "    -i.e. 100 times growth.\n",
    "-If input size goes from 1000 to 1000,000\n",
    "    -it’s a 1000 times growth.\n",
    "    -Run time growth is from 10^6 to 10^12\n",
    "    -i.e., a 1000,000 times growth.\n",
    "-Large N values, time taken would go up by a lot\n",
    "\n",
    "Ex: Sum all elements in an N x N matrix.\n",
    "-Martix is a 2d array (table of values), N x N = N^2\n",
    "Ex: Bubble sort algorithm \n",
    "-N^2 for sorting\n",
    "Ex: Insertion sort algorithm\n",
    "\n",
    "void MyFunction( int [][] intArray2D, int N )\n",
    "{\n",
    "    int sum = 0;\n",
    "    for row = 0 to row < N { ---This line executes N times\n",
    "        for col = 0 to col < N { ---This line excutes N times\n",
    "            sum = sum + intArray[row][col]; ---This line is executed N2 times\n",
    "        }\n",
    "    }\n",
    "}\n",
    "\"\"\""
   ]
  },
  {
   "cell_type": "code",
   "execution_count": null,
   "metadata": {},
   "outputs": [],
   "source": [
    "\"\"\"\n",
    "O(logN)\n",
    "\n",
    "O( log N ) algorithms are usually faster than O (N) algorithms.\n",
    "When we say log, we usually mean log base 2 (binary), ie.log2(N)\n",
    "Rate of growth here is much smaller than N.\n",
    "    -If input size goes from, say, 100 to 1000, it is a 10 times growth in input.\n",
    "    -The run time growth here will be from about 7 to about 10 (so, about 1.5 times)\n",
    "    -If input size goes from 1000 to 1000,000, it is a 1000 times growth in input.\n",
    "    -The run time growth here will be from about 10 to about 20 ( that is only 2 times)\n",
    "    -If input size goes from 1000 to 1,000,000,000, it is a 10^6 times growth in input (million times).\n",
    "    -The run time growth here will be from about 10 to about 30\n",
    "        -Run time only went up triple the amount (10 to 30)\n",
    "\n",
    "Ex: Finding an element in a sorted array\n",
    "- Will take atleast 30 lookups\n",
    "Ex: Finding an element in a Binary Search Tree.\n",
    "-If BST has 1000 elements (and is balanced), worst case it will take 10 searches to find the element (or know it is not there).\n",
    "-If BST has 109 elements (and is balanced), worst case it will take 30 searches to find the element (or know it is not there).\n",
    "-\n",
    "Ex: Insertion of element into a Binary Search Tree.\n",
    "Ex: Deletion of element from a Binary Search Tree.\n",
    "\n",
    "MyFunction_1(10): 1,2,4,8\n",
    "MyFunction_1(100): 1,2,4,8,16,32,64 logN base 2 times\n",
    "MyFunction_2(10): logN base 3 times\n",
    "void MyFunction_1( int N )\n",
    "{\n",
    "    for index = 1 to index < N ---How many times is this loop executed? A:logN base 2 times\n",
    "    {\n",
    "        print index;\n",
    "        index = index * 2;\n",
    "    }\n",
    "}\n",
    "\n",
    "void MyFunction_2( int N )\n",
    "{\n",
    "    for index = 1 to index < N ---How many times is this loop executed? A: logN base 3 times\n",
    "    {\n",
    "        print index;\n",
    "        index = index * 3;\n",
    "    }\n",
    "}\n",
    "\n",
    "\n",
    "void MyFunction_3( int N )\n",
    "{\n",
    "    for index = 1 to index < N ---How many times is this loop executed? A: N\n",
    "    {\n",
    "        print index;\n",
    "        index = index + 4;\n",
    "    }\n",
    "}\n",
    "\n",
    "Function 1: logN becaue of multiplication\n",
    "Function 2: logN because of multiplication\n",
    "Function 3: N because of addtition\n",
    "\n",
    "\"\"\""
   ]
  },
  {
   "cell_type": "code",
   "execution_count": null,
   "metadata": {},
   "outputs": [],
   "source": [
    "\"\"\"\n",
    "NLog(N)\n",
    "\n",
    "-Generally means that you are doing a log N operation for each input item.\n",
    "-Lot of efficient sorting algorithms have a complexity of N Log N.\n",
    "-Quicksort best case is O(N log N)\n",
    "-Mergesort and heapsort are both O( N log N)\n",
    "\n",
    "\n",
    "\n",
    "\n",
    "\"\"\""
   ]
  },
  {
   "cell_type": "code",
   "execution_count": null,
   "metadata": {},
   "outputs": [],
   "source": [
    "\"\"\"\n",
    "O(2^N) = Exponential\n",
    "\n",
    "-Exponential algorithms are very expensive.\n",
    "-The complexity is O(2^n)\n",
    "-This means that with each increasing element, the runtime will double.\n",
    "    -2^5 = 32 operations\n",
    "    -2^6 = 64 operations\n",
    "    -2^10 = 1024 operations\n",
    "    -2^30 = 1 billion operations\n",
    "-Example:\n",
    "    -Lets say we have a crypto key of size 2 bits which we use for some basic encryption.\n",
    "    -This would be trivial to break, because there can only be 4 possible combinations, and these can be obtained using brute force.\n",
    "    -With a key size of 4 bits, brute force evaluation would give 16 possible combinations (4 times more), also trivial.\n",
    "\n",
    "With a key size of 64 bits, we have 264 possible combinations, which is a lot.\n",
    "And a key size of 65 bits yields 2 x 264 possible combinations, which means an increase in the bit size\n",
    "by 1 doubled the possible combinations.\n",
    "And a key size of 128 bits will have 264 x 264 possible combinations !!!\n",
    "Imagine breaking that with a brute force attack.\n",
    "From: https://en.wikipedia.org/wiki/Brute-force_attack\n",
    "Breaking a symmetric 256-bit key by brute force requires 2128 times more computational power than a 128-bit\n",
    "key.\n",
    "Fifty supercomputers that could check a billion billion (1018) keys per second (if such a device could ever be\n",
    "made) would, in theory, require about 3×1051 years to exhaust the 256-bit key space\n",
    "\n",
    "\n",
    "-Another example is computing all subsets of a given set of elements.\n",
    "-If a set has n elements, it has 2n subsets.\n",
    "-So, set with 10 elements has 210 subsets ( 1024 )\n",
    "-And a set with 11 elements has 211 subsets (2048)\n",
    "\n",
    "Another example is recursively computing Fibonacci numbers.\n",
    "• This has 2n calls to Fibonacci function.\n",
    "int Fibonacci( int n )\n",
    "{\n",
    "if ( n < = 1 )\n",
    "return n;\n",
    "return Fibonacci( n – 1 ) + Fibonacci( n – 2 );\n",
    "}\n",
    "\"\"\""
   ]
  },
  {
   "cell_type": "code",
   "execution_count": null,
   "metadata": {},
   "outputs": [],
   "source": [
    "\"\"\"\n",
    "O(n!) = Factorial\n",
    "\n",
    "-An algorithm with factorial complexity is O ( n! )\n",
    "-This is even more expensive than exponential.\n",
    "\n",
    "-For even small values of n, this becomes very very expensive.\n",
    "    -10! = 3,628,800\n",
    "    -15! = 1,307,674,368,000\n",
    "    -20! = 2,432,902,008,176,640,000\n",
    "\n",
    "\"\"\""
   ]
  },
  {
   "cell_type": "code",
   "execution_count": null,
   "metadata": {},
   "outputs": [],
   "source": [
    "\"\"\"\n",
    "So, in order of growth with respect to input size, we have:\n",
    "    -O(1) constant\n",
    "    -O( log N ) sub linear\n",
    "    -O( N ) linear\n",
    "    -O( N log N )\n",
    "    -O(N2) quadratic\n",
    "    -O( 2N ) exponential\n",
    "    -O( N! ) factorial\n",
    "-Polynomial time algorithms are algorithms that are based on powers of N, so constant time,\n",
    "linear, quadratic, cubic, etc. are all polynomial time algorithms.\n",
    "\n",
    "\"\"\""
   ]
  },
  {
   "cell_type": "markdown",
   "metadata": {},
   "source": [
    "### Lab"
   ]
  },
  {
   "cell_type": "code",
   "execution_count": 14,
   "metadata": {
    "collapsed": true
   },
   "outputs": [
    {
     "name": "stdout",
     "output_type": "stream",
     "text": [
      "2 \n",
      "\n",
      "4 \n",
      "\n",
      "8 \n",
      "\n",
      "16 \n",
      "\n",
      "32 \n",
      "\n",
      "64 \n",
      "\n",
      "128 \n",
      "\n",
      "256 \n",
      "\n",
      "512 \n",
      "\n",
      "1024 \n",
      "\n",
      "2048 \n",
      "\n",
      "4096 \n",
      "\n",
      "8192 \n",
      "\n",
      "16384 \n",
      "\n",
      "32768 \n",
      "\n",
      "65536 \n",
      "\n",
      "131072 \n",
      "\n",
      "262144 \n",
      "\n",
      "524288 \n",
      "\n",
      "1048576 \n",
      "\n",
      "2097152 \n",
      "\n",
      "4194304 \n",
      "\n",
      "8388608 \n",
      "\n",
      "16777216 \n",
      "\n",
      "33554432 \n",
      "\n",
      "67108864 \n",
      "\n",
      "134217728 \n",
      "\n",
      "268435456 \n",
      "\n",
      "536870912 \n",
      "\n",
      "1073741824 \n",
      "\n"
     ]
    }
   ],
   "source": [
    "\"\"\"\n",
    "1.Write a for loop in which:\n",
    "-The control variable, say i, starts with an initial value of 1\n",
    "-i increases by a factor of 2 in each iteration, i.e. i is multiplied by 2 in every iteration.\n",
    "-Stopping condition for the loop is i <= 1,000,000,000 (1 billion)\n",
    "-In each iteration, print the value of i and then a new line, i.e. value of i is on a line by itself.\n",
    "\n",
    "-How many lines does your output have?\n",
    "    -How many iterations did it take to get to the stopping condition?\n",
    "\n",
    "Answer: 60 lines (30 iterations)\n",
    "\"\"\"\n",
    "\n",
    "i = 1\n",
    "while i <= 1000000000:\n",
    "    i = i * 2\n",
    "    print(i, '\\n')"
   ]
  },
  {
   "cell_type": "code",
   "execution_count": 15,
   "metadata": {
    "collapsed": true
   },
   "outputs": [
    {
     "name": "stdout",
     "output_type": "stream",
     "text": [
      "10 \n",
      "\n",
      "100 \n",
      "\n",
      "1000 \n",
      "\n",
      "10000 \n",
      "\n",
      "100000 \n",
      "\n",
      "1000000 \n",
      "\n",
      "10000000 \n",
      "\n",
      "100000000 \n",
      "\n",
      "1000000000 \n",
      "\n",
      "10000000000 \n",
      "\n"
     ]
    }
   ],
   "source": [
    "\"\"\"\n",
    "2. What if the value of i increases by a factor of 10 in each iteration?\n",
    "-How many lines will your output have?\n",
    "\n",
    "Answer: 20 lines (10 iterations)\n",
    "\"\"\"\n",
    "\n",
    "i = 1\n",
    "while i <= 1000000000:\n",
    "    i = i * 10\n",
    "    print(i, '\\n')"
   ]
  },
  {
   "cell_type": "code",
   "execution_count": null,
   "metadata": {},
   "outputs": [],
   "source": [
    "\"\"\"\n",
    "3. Write a function that:\n",
    "\n",
    "-Takes an integer as its parameter\n",
    "-Returns the factorial of the passed in parameter\n",
    "-So, the function signature will look something like:\n",
    "    -long factorial(n)\n",
    "-What validation do you need to perform on the parameter?\n",
    "-Factorial of a number is defined as the product of all numbers starting from 1 to that number.\n",
    "-Ex.\n",
    "    -Factorial(3) = 1*2*3 = 6\n",
    "    -Factorial(7) = 1*2*3*4*5*6*7 = 5040 = Factorial(6) * 7\n",
    "\"\"\""
   ]
  },
  {
   "cell_type": "code",
   "execution_count": 38,
   "metadata": {},
   "outputs": [],
   "source": [
    "def fac(n):\n",
    "    \"\"\"\n",
    "    Parameters:\n",
    "    -n: integer\n",
    "    \"\"\"\n",
    "    factor = 1\n",
    "    \n",
    "    if n < 0:\n",
    "       print(\"Sorry, factorial does not exist for negative numbers\")\n",
    "    elif n == 0:\n",
    "       print(\"The factorial of 0 is 1\")\n",
    "    else:\n",
    "       for i in range(1, n+1):\n",
    "           factor = factor*i\n",
    "       print(\"The factorial of\",n,\"is\",factor)\n",
    "    return n"
   ]
  },
  {
   "cell_type": "code",
   "execution_count": 39,
   "metadata": {},
   "outputs": [
    {
     "name": "stdout",
     "output_type": "stream",
     "text": [
      "The factorial of 3 is 6\n"
     ]
    },
    {
     "data": {
      "text/plain": [
       "3"
      ]
     },
     "execution_count": 39,
     "metadata": {},
     "output_type": "execute_result"
    }
   ],
   "source": [
    "fac(3)"
   ]
  },
  {
   "cell_type": "code",
   "execution_count": 40,
   "metadata": {},
   "outputs": [
    {
     "name": "stdout",
     "output_type": "stream",
     "text": [
      "The factorial of 7 is 5040\n"
     ]
    },
    {
     "data": {
      "text/plain": [
       "7"
      ]
     },
     "execution_count": 40,
     "metadata": {},
     "output_type": "execute_result"
    }
   ],
   "source": [
    "fac(7)"
   ]
  },
  {
   "cell_type": "code",
   "execution_count": null,
   "metadata": {},
   "outputs": [],
   "source": []
  },
  {
   "cell_type": "markdown",
   "metadata": {},
   "source": [
    "### Assignment 2"
   ]
  },
  {
   "cell_type": "code",
   "execution_count": 2,
   "metadata": {},
   "outputs": [],
   "source": [
    "#For a regular array, how many steps would it take to search for all of a certain item? \n",
    "A: N/2\n",
    "#For example, we want to search for every 55 contained within an array to determine how many times it appears. \n",
    "#Give your answer in terms of n."
   ]
  },
  {
   "cell_type": "code",
   "execution_count": 3,
   "metadata": {},
   "outputs": [],
   "source": [
    "#There’s an age old puzzle that goes as follows: You’re at a river with two buckets. \n",
    "#One holds exactly 3 liters, and one holds exactly 5 liters. \n",
    "#Figure out how to measure out exactly 4 liters using those two buckets. \n",
    "#Describe (don't code) two different algorithms for measuring out 4 liters. \n",
    "#Which of your algorithms is more efficient? That is, which one takes the fewest steps?"
   ]
  },
  {
   "cell_type": "code",
   "execution_count": 4,
   "metadata": {},
   "outputs": [],
   "source": [
    "#How many steps would it take to insert the number 7 into the ordered array of [2, 4, 6, 8, 10, 12]? \n",
    "#Describe the algorithm you used. What is the complexity of your algorithm?"
   ]
  },
  {
   "cell_type": "code",
   "execution_count": 5,
   "metadata": {},
   "outputs": [],
   "source": [
    "#Finally, provide the Big O for each of the functions to your left. \n",
    "#SayHiNTimes()\n",
    "#Sort()\n",
    "#Display()\n",
    "#PrintFirstItemThenFirstHalfThenSayHi100Times()"
   ]
  },
  {
   "cell_type": "code",
   "execution_count": null,
   "metadata": {},
   "outputs": [],
   "source": [
    "def SayHiNTimes(n):\n",
    "    x = 0\n",
    "    while x < n:\n",
    "        x += 1\n",
    "        print(\"hi\")\n",
    "        \n",
    "SayHiNTimes(5)\n",
    "\n",
    "def Sort(numbers):\n",
    "    for x in range(len(numbers)):\n",
    "        for y in range(len(numbers)):\n",
    "            if numbers[x] < numbers[y]:\n",
    "                temp = numbers[x]\n",
    "                numbers[x] = numbers[y]\n",
    "                numbers[y] = temp\n",
    "                \n",
    "num_list = [5, 1, 8, 2]\n",
    "\n",
    "Sort(num_list)\n",
    "\n",
    "for num in num_list:\n",
    "  print(num)\n",
    "  \n",
    "def PrintFirstItemThenFirstHalfThenSayHi100Times(int_list):\n",
    "  print(int_list[0])\n",
    "\n",
    "  middleIndex = len(int_list)/2\n",
    "  index = 0\n",
    "\n",
    "  while index < middleIndex:\n",
    "      print(int_list[index])\n",
    "      index += 1\n",
    "\n",
    "  x = 0\n",
    "  while x < 100:\n",
    "      x += 1\n",
    "      print(\"hi\")\n",
    "      \n",
    "PrintFirstItemThenFirstHalfThenSayHi100Times(num_list)"
   ]
  }
 ],
 "metadata": {
  "kernelspec": {
   "display_name": "Python 3",
   "language": "python",
   "name": "python3"
  },
  "language_info": {
   "codemirror_mode": {
    "name": "ipython",
    "version": 3
   },
   "file_extension": ".py",
   "mimetype": "text/x-python",
   "name": "python",
   "nbconvert_exporter": "python",
   "pygments_lexer": "ipython3",
   "version": "3.6.5"
  }
 },
 "nbformat": 4,
 "nbformat_minor": 2
}
