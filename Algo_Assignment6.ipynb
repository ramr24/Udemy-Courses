{
 "cells": [
  {
   "cell_type": "markdown",
   "metadata": {},
   "source": [
    "### Trees"
   ]
  },
  {
   "cell_type": "code",
   "execution_count": 5,
   "metadata": {},
   "outputs": [
    {
     "data": {
      "text/plain": [
       "\"\\n1)Write a function that takes in a list of integers, creates a binary search tree (bst) with those integers, and returns the tree.\\n-Sort smaller values Left and larger values Right. \\n-For example, \\n--Attempting to add the value 3 to a node with a value of 7 would store a new node in its left pointer (or at least try to).\\n-Don't store duplicates. If the value already exists in the tree, just skip it.\\n\\n2) Write a function that returns the in-order traversal of a given bst as space-separated string. \\n-For example, a tree created with the value list [10, 15, 7, 9, 3, 24] should produce the output 3 7 9 10 15 24.\\n\\n3)Write a function that returns the pre-order traversal of a given bst as space-separated string. \\n-For example, a tree created with the value list [10, 15, 7, 9, 3, 24] should produce the output 10 7 3 9 15 24.\\n\\n4)Write a function that returns the post-order traversal of a given bst as space-separated string. \\n-For example, a tree created with the value list [10, 15, 7, 9, 3, 24] should produce the output 3 9 7 24 15 10.\\n\\n5)Write a function that determines the height of a given tree.\\n-Recall that the height of a tree is the length of the longest path from the root to a leaf. \\n-The blue example tree above would have a height of 2. \\n-A tree with only one node (the root node) would have a height of 0. \\n\\n6)Write a function that returns the sum of all values in a tree.\\n\\n7)Write a function that returns a bool indicating that a value exists (or not) in a given tree.\\n\\nHint: Implementing your tree using a Node class will save you a lot of trouble\\n\""
      ]
     },
     "execution_count": 5,
     "metadata": {},
     "output_type": "execute_result"
    }
   ],
   "source": [
    "\"\"\"\n",
    "1)Write a function that takes in a list of integers, creates a binary search tree (bst) with those integers, and returns the tree.\n",
    "-Sort smaller values Left and larger values Right. \n",
    "-For example, \n",
    "--Attempting to add the value 3 to a node with a value of 7 would store a new node in its left pointer (or at least try to).\n",
    "-Don't store duplicates. If the value already exists in the tree, just skip it.\n",
    "\n",
    "2) Write a function that returns the in-order traversal of a given bst as space-separated string. \n",
    "-For example, a tree created with the value list [10, 15, 7, 9, 3, 24] should produce the output 3 7 9 10 15 24.\n",
    "\n",
    "3)Write a function that returns the pre-order traversal of a given bst as space-separated string. \n",
    "-For example, a tree created with the value list [10, 15, 7, 9, 3, 24] should produce the output 10 7 3 9 15 24.\n",
    "\n",
    "4)Write a function that returns the post-order traversal of a given bst as space-separated string. \n",
    "-For example, a tree created with the value list [10, 15, 7, 9, 3, 24] should produce the output 3 9 7 24 15 10.\n",
    "\n",
    "5)Write a function that determines the height of a given tree.\n",
    "-Recall that the height of a tree is the length of the longest path from the root to a leaf. \n",
    "-The blue example tree above would have a height of 2. \n",
    "-A tree with only one node (the root node) would have a height of 0. \n",
    "\n",
    "6)Write a function that returns the sum of all values in a tree.\n",
    "\n",
    "7)Write a function that returns a bool indicating that a value exists (or not) in a given tree.\n",
    "\n",
    "Hint: Implementing your tree using a Node class will save you a lot of trouble\n",
    "\"\"\""
   ]
  },
  {
   "cell_type": "code",
   "execution_count": 6,
   "metadata": {},
   "outputs": [],
   "source": [
    "class Tree:\n",
    "  # 1) Write a function that takes in a list of integers, creates a binary tree with those integers\n",
    "  def __init__(self, values):\n",
    "    pass\n",
    "  \n",
    "  # 2) Write a function that returns the in-order traversal of the tree as space-separated string.\n",
    "  def in_order(self):\n",
    "    pass\n",
    "  \n",
    "  # 3) Write a function that returns the pre-order traversal of the tree as space-separated string.\n",
    "  def pre_order(self):\n",
    "    pass\n",
    "  \n",
    "  # 4) Write a function that returns the post-order traversal of the tree as space-separated string.\n",
    "  def post_order(self):\n",
    "    pass\n",
    "  \n",
    "  # 5) Write a function that determines the height of a given tree.\n",
    "  def height(self):\n",
    "    pass\n",
    "  \n",
    "  # 6) Write a function that returns the sum of all values in a tree.\n",
    "  def sum(self):\n",
    "    pass\n",
    "  \n",
    "  # 7) Write a function that returns a bool indicating that a value exists (or not) in a given tree.\n",
    "  def contains(self, value):\n",
    "    pass"
   ]
  },
  {
   "cell_type": "code",
   "execution_count": 7,
   "metadata": {},
   "outputs": [
    {
     "data": {
      "text/plain": [
       "'\\nNot able to input a list, instead have to use insert for the list\\n\\n*Even though you have answers... \\n-Go thru videos and lecture to understand the concepts\\n-Youtube\\n-Udemy\\n-Lecture\\n\\n1) DONE\\n2) DONE\\n3) DONE\\n4) DONE\\n5) HEIGHT? *****\\n6) SUM?    *****\\n7) DONE\\n'"
      ]
     },
     "execution_count": 7,
     "metadata": {},
     "output_type": "execute_result"
    }
   ],
   "source": [
    "\"\"\"\n",
    "Not able to input a list, instead have to use insert for the list\n",
    "\n",
    "*Even though you have answers... \n",
    "-Go thru videos and lecture to understand the concepts\n",
    "-Youtube\n",
    "-Udemy\n",
    "-Lecture\n",
    "\n",
    "1) DONE\n",
    "2) DONE\n",
    "3) DONE\n",
    "4) DONE\n",
    "5) HEIGHT? *****\n",
    "6) SUM?    *****\n",
    "7) DONE\n",
    "\"\"\""
   ]
  }
 ],
 "metadata": {
  "kernelspec": {
   "display_name": "Python 3",
   "language": "python",
   "name": "python3"
  },
  "language_info": {
   "codemirror_mode": {
    "name": "ipython",
    "version": 3
   },
   "file_extension": ".py",
   "mimetype": "text/x-python",
   "name": "python",
   "nbconvert_exporter": "python",
   "pygments_lexer": "ipython3",
   "version": "3.6.5"
  }
 },
 "nbformat": 4,
 "nbformat_minor": 2
}
