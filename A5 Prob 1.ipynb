{
 "cells": [
  {
   "cell_type": "code",
   "execution_count": 1,
   "metadata": {},
   "outputs": [
    {
     "ename": "NameError",
     "evalue": "name 'raw_input' is not defined",
     "output_type": "error",
     "traceback": [
      "\u001b[1;31m---------------------------------------------------------------------------\u001b[0m",
      "\u001b[1;31mNameError\u001b[0m                                 Traceback (most recent call last)",
      "\u001b[1;32m<ipython-input-1-9d68c5dc28bd>\u001b[0m in \u001b[0;36m<module>\u001b[1;34m()\u001b[0m\n\u001b[0;32m     29\u001b[0m     \u001b[1;32mreturn\u001b[0m \u001b[0ms\u001b[0m\u001b[1;33m.\u001b[0m\u001b[0mpop\u001b[0m\u001b[1;33m(\u001b[0m\u001b[1;33m)\u001b[0m\u001b[1;33m\u001b[0m\u001b[0m\n\u001b[0;32m     30\u001b[0m \u001b[1;33m\u001b[0m\u001b[0m\n\u001b[1;32m---> 31\u001b[1;33m \u001b[0mexpr\u001b[0m \u001b[1;33m=\u001b[0m \u001b[0mraw_input\u001b[0m\u001b[1;33m(\u001b[0m\u001b[1;33m)\u001b[0m\u001b[1;33m\u001b[0m\u001b[0m\n\u001b[0m\u001b[0;32m     32\u001b[0m \u001b[0mevalPostfix\u001b[0m\u001b[1;33m(\u001b[0m\u001b[0mexpr\u001b[0m\u001b[1;33m)\u001b[0m\u001b[1;33m\u001b[0m\u001b[0m\n",
      "\u001b[1;31mNameError\u001b[0m: name 'raw_input' is not defined"
     ]
    }
   ],
   "source": [
    "class Stack:\n",
    "    def _init_(self):\n",
    "        self.items = []\n",
    "    \n",
    "    def push(self,item):\n",
    "        self.items.append(item)\n",
    "\n",
    "    def pop(self):\n",
    "        return self.items.pop()\n",
    "\n",
    "    def isEmpty(self):\n",
    "        return (self.items ==[])\n",
    "\n",
    "def evalPostfix(expr):\n",
    "    #expr = raw_input()\n",
    "    tokenList = expr.split(\" \")\n",
    "    s= Stack()\n",
    "    for token in tokenList:\n",
    "        if token == '' or token ==' ':\n",
    "            continue\n",
    "        if token =='+':\n",
    "            sum = s.pop() + s.pop()\n",
    "            s.push(sum)\n",
    "        elif token == '*':\n",
    "            product = s.pop() * s.pop()\n",
    "            s.push(product)\n",
    "        else:\n",
    "            s.push(int(token))\n",
    "    return s.pop()\n",
    "\n",
    "expr = raw_input()\n",
    "evalPostfix(expr)\n"
   ]
  },
  {
   "cell_type": "markdown",
   "metadata": {},
   "source": [
    "### Problem 1"
   ]
  },
  {
   "cell_type": "code",
   "execution_count": null,
   "metadata": {},
   "outputs": [],
   "source": [
    "class Stack():\n",
    "    def __init__(self):\n",
    "        #Initialize new empty stack\n",
    "        self.stack = []\n",
    "    \n",
    "    def push(self, data):\n",
    "        #Add new data to stack\n",
    "        self.stack.append(data)\n",
    "        \n",
    "    def pop(self):\n",
    "        #Remove and return data from stack (Last added data returned)\n",
    "        return self.stack.pop()\n",
    "    \n",
    "    def is_empty(self):\n",
    "        #Check for empty stack\n",
    "        return self.stack == []\n",
    "    \n",
    "    def peek(self):\n",
    "        if not self.is_empty():\n",
    "            return self.stack[-1]\n",
    "    \n",
    "    def get_stack(self):\n",
    "        return self.stack"
   ]
  },
  {
   "cell_type": "code",
   "execution_count": 1,
   "metadata": {},
   "outputs": [],
   "source": [
    "# 1. Create a Reverse Polish Notation calculator\n",
    "import operator\n",
    "\n",
    "class RPN:\n",
    "    def process(self, value):\n",
    "        #Your process( ) method should handle \"+\", \"-\", \"*\", \"/\", and positive/negative numbers.\n",
    "        ops = {'+': operator.add, \n",
    "               '-': operator.sub,\n",
    "               '*': operator.mul,\n",
    "               '/': operator.floordiv}\n",
    "        \n",
    "        #When process( ) gets an operation, it should pop two values off the stack, \n",
    "        #perform the operation, then push the result back onto the stack. \n",
    "        stack = []\n",
    "        for val in expression:\n",
    "            result = None\n",
    "            if val in ops:\n",
    "                s2 = stack.pop()\n",
    "                s1 = stack.pop()\n",
    "                op = ops[val]\n",
    "                stack.push(op(s1, s2))\n",
    "            else:\n",
    "                result = float(val)\n",
    "            stack.append(result)\n",
    "        return stack.pop()"
   ]
  },
  {
   "cell_type": "code",
   "execution_count": null,
   "metadata": {},
   "outputs": [],
   "source": []
  },
  {
   "cell_type": "code",
   "execution_count": null,
   "metadata": {},
   "outputs": [],
   "source": [
    "#The result( ) method should return the last value pushed on the stack.\n",
    "def result(stack):\n",
    "    if stack == []:\n",
    "        return None\n",
    "    else:\n",
    "        return stack[-1]"
   ]
  },
  {
   "cell_type": "code",
   "execution_count": null,
   "metadata": {},
   "outputs": [],
   "source": []
  },
  {
   "cell_type": "code",
   "execution_count": null,
   "metadata": {},
   "outputs": [],
   "source": [
    "#When process( ) gets an operation, it should pop two values off the stack, \n",
    "#perform the operation, then push the result back onto the stack. \n",
    "s1 = stack.pop()\n",
    "s2 = stack.pop()\n",
    "op = ops[token]\n",
    "stack.push(op(s2,s1)) "
   ]
  },
  {
   "cell_type": "code",
   "execution_count": null,
   "metadata": {},
   "outputs": [],
   "source": []
  },
  {
   "cell_type": "code",
   "execution_count": 5,
   "metadata": {},
   "outputs": [
    {
     "name": "stdout",
     "output_type": "stream",
     "text": [
      "Inputting 77*65+65+*+37*/ into rpn:\n"
     ]
    },
    {
     "ename": "TypeError",
     "evalue": "can't multiply sequence by non-int of type 'str'",
     "output_type": "error",
     "traceback": [
      "\u001b[1;31m---------------------------------------------------------------------------\u001b[0m",
      "\u001b[1;31mTypeError\u001b[0m                                 Traceback (most recent call last)",
      "\u001b[1;32m<ipython-input-5-63a093d6469a>\u001b[0m in \u001b[0;36m<module>\u001b[1;34m()\u001b[0m\n\u001b[0;32m     20\u001b[0m \u001b[0mTEST\u001b[0m \u001b[1;33m=\u001b[0m \u001b[1;34m'77*65+65+*+37*/'\u001b[0m\u001b[1;33m\u001b[0m\u001b[0m\n\u001b[0;32m     21\u001b[0m \u001b[0mprint\u001b[0m\u001b[1;33m(\u001b[0m\u001b[1;34m\"Inputting \"\u001b[0m \u001b[1;33m+\u001b[0m \u001b[0mTEST\u001b[0m \u001b[1;33m+\u001b[0m \u001b[1;34m\" into rpn:\"\u001b[0m\u001b[1;33m)\u001b[0m\u001b[1;33m\u001b[0m\u001b[0m\n\u001b[1;32m---> 22\u001b[1;33m \u001b[0mprint\u001b[0m\u001b[1;33m(\u001b[0m\u001b[0mrpn\u001b[0m\u001b[1;33m(\u001b[0m\u001b[0mTEST\u001b[0m\u001b[1;33m)\u001b[0m\u001b[1;33m)\u001b[0m\u001b[1;33m\u001b[0m\u001b[0m\n\u001b[0m",
      "\u001b[1;32m<ipython-input-5-63a093d6469a>\u001b[0m in \u001b[0;36mrpn\u001b[1;34m(string)\u001b[0m\n\u001b[0;32m     11\u001b[0m                 \u001b[0mstack\u001b[0m\u001b[1;33m.\u001b[0m\u001b[0mappend\u001b[0m\u001b[1;33m(\u001b[0m\u001b[0moper2\u001b[0m \u001b[1;33m-\u001b[0m \u001b[0moper1\u001b[0m\u001b[1;33m)\u001b[0m\u001b[1;33m\u001b[0m\u001b[0m\n\u001b[0;32m     12\u001b[0m             \u001b[1;32melif\u001b[0m \u001b[0melement\u001b[0m \u001b[1;33m==\u001b[0m \u001b[1;34m'*'\u001b[0m\u001b[1;33m:\u001b[0m\u001b[1;33m\u001b[0m\u001b[0m\n\u001b[1;32m---> 13\u001b[1;33m                 \u001b[0mstack\u001b[0m\u001b[1;33m.\u001b[0m\u001b[0mappend\u001b[0m\u001b[1;33m(\u001b[0m\u001b[0moper1\u001b[0m \u001b[1;33m*\u001b[0m \u001b[0moper2\u001b[0m\u001b[1;33m)\u001b[0m\u001b[1;33m\u001b[0m\u001b[0m\n\u001b[0m\u001b[0;32m     14\u001b[0m             \u001b[1;32melse\u001b[0m\u001b[1;33m:\u001b[0m\u001b[1;33m\u001b[0m\u001b[0m\n\u001b[0;32m     15\u001b[0m                 \u001b[0mstack\u001b[0m\u001b[1;33m.\u001b[0m\u001b[0mappend\u001b[0m\u001b[1;33m(\u001b[0m\u001b[0moper2\u001b[0m \u001b[1;33m/\u001b[0m \u001b[0moper1\u001b[0m\u001b[1;33m)\u001b[0m\u001b[1;33m\u001b[0m\u001b[0m\n",
      "\u001b[1;31mTypeError\u001b[0m: can't multiply sequence by non-int of type 'str'"
     ]
    }
   ],
   "source": [
    "stack = []\n",
    "\n",
    "def rpn(string):\n",
    "    for element in string:\n",
    "        if element in ['+', '-', '*', '/']:\n",
    "            int(oper1) = stack.pop()\n",
    "            int(oper2) = stack.pop()\n",
    "            if element == '+':\n",
    "                stack.append(oper1 + oper2)\n",
    "            elif element == '-':\n",
    "                stack.append(oper2 - oper1)\n",
    "            elif element == '*':\n",
    "                stack.append(oper1 * oper2)\n",
    "            else:\n",
    "                stack.append(oper2 / oper1)\n",
    "        stack.append(element)\n",
    "    return stack.pop()\n",
    "\n",
    "# Test routine\n",
    "TEST = '77*65+65+*+37*/'\n",
    "print(\"Inputting \" + TEST + \" into rpn:\")\n",
    "print(rpn(TEST))"
   ]
  },
  {
   "cell_type": "code",
   "execution_count": null,
   "metadata": {},
   "outputs": [],
   "source": []
  }
 ],
 "metadata": {
  "kernelspec": {
   "display_name": "Python 3",
   "language": "python",
   "name": "python3"
  },
  "language_info": {
   "codemirror_mode": {
    "name": "ipython",
    "version": 3
   },
   "file_extension": ".py",
   "mimetype": "text/x-python",
   "name": "python",
   "nbconvert_exporter": "python",
   "pygments_lexer": "ipython3",
   "version": "3.6.3"
  }
 },
 "nbformat": 4,
 "nbformat_minor": 2
}
