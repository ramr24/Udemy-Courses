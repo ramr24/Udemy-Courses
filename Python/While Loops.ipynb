{
 "cells": [
  {
   "cell_type": "markdown",
   "metadata": {},
   "source": [
    "# While Loops"
   ]
  },
  {
   "cell_type": "code",
   "execution_count": 1,
   "metadata": {},
   "outputs": [
    {
     "name": "stdout",
     "output_type": "stream",
     "text": [
      "x is currently:  0\n",
      "x is currently:  1\n",
      "x is currently:  2\n",
      "x is currently:  3\n",
      "x is currently:  4\n",
      "x is currently:  5\n",
      "x is currently:  6\n",
      "x is currently:  7\n",
      "x is currently:  8\n",
      "x is currently:  9\n"
     ]
    }
   ],
   "source": [
    "x = 0\n",
    "\n",
    "while x < 10:\n",
    "    print('x is currently: ',x)\n",
    "    x += 1"
   ]
  },
  {
   "cell_type": "markdown",
   "metadata": {},
   "source": [
    "While loops run until the condition is met. "
   ]
  },
  {
   "cell_type": "code",
   "execution_count": 2,
   "metadata": {},
   "outputs": [
    {
     "name": "stdout",
     "output_type": "stream",
     "text": [
      "x is currently  0\n",
      "x is currently  1\n",
      "x is currently  2\n",
      "x is currently  3\n",
      "x is currently  4\n",
      "x is currently  5\n",
      "x is currently  6\n",
      "x is currently  7\n",
      "x is currently  8\n",
      "x is currently  9\n",
      "All done!\n"
     ]
    }
   ],
   "source": [
    "x = 0\n",
    "\n",
    "while x < 10:\n",
    "    print('x is currently ',x)\n",
    "    x += 1\n",
    "    \n",
    "else:\n",
    "    print('All done!')"
   ]
  },
  {
   "cell_type": "markdown",
   "metadata": {},
   "source": [
    "Else statement is run after while loop is done. "
   ]
  },
  {
   "cell_type": "markdown",
   "metadata": {},
   "source": [
    "### Break, Continue & Pass Statements"
   ]
  },
  {
   "cell_type": "code",
   "execution_count": 3,
   "metadata": {},
   "outputs": [
    {
     "name": "stdout",
     "output_type": "stream",
     "text": [
      "x is currently  0\n",
      "x is still less than 10, adding 1 to x\n",
      "continuing\n",
      "x is currently  1\n",
      "x is still less than 10, adding 1 to x\n",
      "continuing\n",
      "x is currently  2\n",
      "x is still less than 10, adding 1 to x\n",
      "Hey x equals 3!\n",
      "x is currently  3\n",
      "x is still less than 10, adding 1 to x\n",
      "continuing\n",
      "x is currently  4\n",
      "x is still less than 10, adding 1 to x\n",
      "continuing\n",
      "x is currently  5\n",
      "x is still less than 10, adding 1 to x\n",
      "continuing\n",
      "x is currently  6\n",
      "x is still less than 10, adding 1 to x\n",
      "continuing\n",
      "x is currently  7\n",
      "x is still less than 10, adding 1 to x\n",
      "continuing\n",
      "x is currently  8\n",
      "x is still less than 10, adding 1 to x\n",
      "continuing\n",
      "x is currently  9\n",
      "x is still less than 10, adding 1 to x\n",
      "continuing\n"
     ]
    }
   ],
   "source": [
    "x = 0\n",
    "\n",
    "while x < 10:\n",
    "    print('x is currently ',x)\n",
    "    print('x is still less than 10, adding 1 to x')\n",
    "    x += 1\n",
    "    \n",
    "    if x==3:\n",
    "        print('Hey x equals 3!')\n",
    "    else:\n",
    "        print('continuing')\n",
    "    continue"
   ]
  },
  {
   "cell_type": "code",
   "execution_count": 4,
   "metadata": {},
   "outputs": [
    {
     "name": "stdout",
     "output_type": "stream",
     "text": [
      "x is currently  0\n",
      "x is still less than 10, adding 1 to x\n",
      "continuing\n",
      "x is currently  1\n",
      "x is still less than 10, adding 1 to x\n",
      "continuing\n",
      "x is currently  2\n",
      "x is still less than 10, adding 1 to x\n",
      "Hey x equals 3!\n"
     ]
    }
   ],
   "source": [
    "x = 0\n",
    "\n",
    "while x < 10:\n",
    "    print('x is currently ',x)\n",
    "    print('x is still less than 10, adding 1 to x')\n",
    "    x += 1\n",
    "    \n",
    "    if x==3:\n",
    "        print('Hey x equals 3!')\n",
    "        break\n",
    "    else:\n",
    "        print('continuing')\n",
    "    continue"
   ]
  },
  {
   "cell_type": "markdown",
   "metadata": {},
   "source": [
    "Pass = doesn't do anything"
   ]
  }
 ],
 "metadata": {
  "kernelspec": {
   "display_name": "Python 3",
   "language": "python",
   "name": "python3"
  },
  "language_info": {
   "codemirror_mode": {
    "name": "ipython",
    "version": 3
   },
   "file_extension": ".py",
   "mimetype": "text/x-python",
   "name": "python",
   "nbconvert_exporter": "python",
   "pygments_lexer": "ipython3",
   "version": "3.6.3"
  }
 },
 "nbformat": 4,
 "nbformat_minor": 2
}
