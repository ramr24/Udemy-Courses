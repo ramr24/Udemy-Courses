{
 "cells": [
  {
   "cell_type": "code",
   "execution_count": 1,
   "metadata": {},
   "outputs": [],
   "source": [
    "class MaxStack(list):\n",
    "    def push(self, x):\n",
    "        m = max(x, self[-1][1] if self else None)\n",
    "        self.append((x, m))\n",
    "\n",
    "    def pop(self):\n",
    "        return list.pop(self)[0]\n",
    "\n",
    "    def top(self):\n",
    "        return self[-1][0]\n",
    "\n",
    "    def peekMax(self):\n",
    "        return self[-1][1]\n",
    "\n",
    "    def popMax(self):\n",
    "        m = self[-1][1]\n",
    "        b = []\n",
    "        while self[-1][0] != m:\n",
    "            b.append(self.pop())\n",
    "\n",
    "        self.pop()\n",
    "        map(self.push, reversed(b))\n",
    "        return m"
   ]
  },
  {
   "cell_type": "code",
   "execution_count": 2,
   "metadata": {},
   "outputs": [],
   "source": [
    "stack = MaxStack()"
   ]
  },
  {
   "cell_type": "code",
   "execution_count": 3,
   "metadata": {},
   "outputs": [
    {
     "ename": "TypeError",
     "evalue": "'>' not supported between instances of 'NoneType' and 'int'",
     "output_type": "error",
     "traceback": [
      "\u001b[1;31m---------------------------------------------------------------------------\u001b[0m",
      "\u001b[1;31mTypeError\u001b[0m                                 Traceback (most recent call last)",
      "\u001b[1;32m<ipython-input-3-4603daef9c12>\u001b[0m in \u001b[0;36m<module>\u001b[1;34m()\u001b[0m\n\u001b[1;32m----> 1\u001b[1;33m \u001b[0mstack\u001b[0m\u001b[1;33m.\u001b[0m\u001b[0mpush\u001b[0m\u001b[1;33m(\u001b[0m\u001b[1;36m5\u001b[0m\u001b[1;33m)\u001b[0m\u001b[1;33m\u001b[0m\u001b[0m\n\u001b[0m",
      "\u001b[1;32m<ipython-input-1-1f37249c4b82>\u001b[0m in \u001b[0;36mpush\u001b[1;34m(self, x)\u001b[0m\n\u001b[0;32m      1\u001b[0m \u001b[1;32mclass\u001b[0m \u001b[0mMaxStack\u001b[0m\u001b[1;33m(\u001b[0m\u001b[0mlist\u001b[0m\u001b[1;33m)\u001b[0m\u001b[1;33m:\u001b[0m\u001b[1;33m\u001b[0m\u001b[0m\n\u001b[0;32m      2\u001b[0m     \u001b[1;32mdef\u001b[0m \u001b[0mpush\u001b[0m\u001b[1;33m(\u001b[0m\u001b[0mself\u001b[0m\u001b[1;33m,\u001b[0m \u001b[0mx\u001b[0m\u001b[1;33m)\u001b[0m\u001b[1;33m:\u001b[0m\u001b[1;33m\u001b[0m\u001b[0m\n\u001b[1;32m----> 3\u001b[1;33m         \u001b[0mm\u001b[0m \u001b[1;33m=\u001b[0m \u001b[0mmax\u001b[0m\u001b[1;33m(\u001b[0m\u001b[0mx\u001b[0m\u001b[1;33m,\u001b[0m \u001b[0mself\u001b[0m\u001b[1;33m[\u001b[0m\u001b[1;33m-\u001b[0m\u001b[1;36m1\u001b[0m\u001b[1;33m]\u001b[0m\u001b[1;33m[\u001b[0m\u001b[1;36m1\u001b[0m\u001b[1;33m]\u001b[0m \u001b[1;32mif\u001b[0m \u001b[0mself\u001b[0m \u001b[1;32melse\u001b[0m \u001b[1;32mNone\u001b[0m\u001b[1;33m)\u001b[0m\u001b[1;33m\u001b[0m\u001b[0m\n\u001b[0m\u001b[0;32m      4\u001b[0m         \u001b[0mself\u001b[0m\u001b[1;33m.\u001b[0m\u001b[0mappend\u001b[0m\u001b[1;33m(\u001b[0m\u001b[1;33m(\u001b[0m\u001b[0mx\u001b[0m\u001b[1;33m,\u001b[0m \u001b[0mm\u001b[0m\u001b[1;33m)\u001b[0m\u001b[1;33m)\u001b[0m\u001b[1;33m\u001b[0m\u001b[0m\n\u001b[0;32m      5\u001b[0m \u001b[1;33m\u001b[0m\u001b[0m\n",
      "\u001b[1;31mTypeError\u001b[0m: '>' not supported between instances of 'NoneType' and 'int'"
     ]
    }
   ],
   "source": [
    "stack.push(5)"
   ]
  },
  {
   "cell_type": "code",
   "execution_count": null,
   "metadata": {},
   "outputs": [],
   "source": [
    "stack.popMax()"
   ]
  },
  {
   "cell_type": "code",
   "execution_count": null,
   "metadata": {},
   "outputs": [],
   "source": []
  },
  {
   "cell_type": "code",
   "execution_count": null,
   "metadata": {},
   "outputs": [],
   "source": [
    "# 1. Create a Reverse Polish Notation calculator\n",
    "class RPN:\n",
    "  def process(self, value):\n",
    "    pass\n",
    "  \n",
    "  def result(self):\n",
    "    pass\n",
    "\n",
    "# 2. Write a method that removes the maximum value from a stack\n",
    "def remove_max(values):\n",
    "  pass"
   ]
  },
  {
   "cell_type": "code",
   "execution_count": null,
   "metadata": {},
   "outputs": [],
   "source": [
    "class Stack():\n",
    "    def __init__(self):\n",
    "        self.stack = []\n",
    "    \n",
    "    def push(self, data):\n",
    "        return self.stack.append(val)\n",
    "        \n",
    "    def pop(self):\n",
    "        if self.is_empty():\n",
    "            return None\n",
    "        return self.stack.pop()\n",
    "    \n",
    "    def is_empty(self):\n",
    "        return self.size() == 0\n",
    "    \n",
    "    def peek(self):\n",
    "        if self.is_empty():\n",
    "            return None\n",
    "        else:\n",
    "            return self.stack[-1]\n",
    "    \n",
    "    def size(self):\n",
    "        return len(self.stack)\n",
    "    \n",
    "class Queue:\n",
    "    def __init__(self):\n",
    "        self.queue = []\n",
    "    \n",
    "    def enqueue(self, val):\n",
    "        self.queue.insert(0, val)\n",
    "        \n",
    "    def dequeue(self):\n",
    "        if self.is_empty():\n",
    "            return None\n",
    "        else:\n",
    "            return self.queue.pop()\n",
    "    \n",
    "    def size(self):\n",
    "        return len(self.queue)\n",
    "    \n",
    "    def is_empty(self):\n",
    "        return self.size() == 0\n",
    "    \n",
    "stack = Stack()"
   ]
  },
  {
   "cell_type": "markdown",
   "metadata": {},
   "source": [
    "### Problem 2"
   ]
  },
  {
   "cell_type": "code",
   "execution_count": null,
   "metadata": {},
   "outputs": [],
   "source": [
    "\"\"\"\n",
    "2. Write a function remove_max(values), given the following specifications:\n",
    "Takes a stack of integers as a parameter\n",
    "Removes the maximum value from the stack, and returns that value.\n",
    "The order of other values in the stack should NOT be changed.\n",
    "\n",
    "Example:  \n",
    "# Lets say the stack s1 contains:  \n",
    "# bottom { 7, 77, 88, 2, 97, 5, 117, 107, 61, 107, 52 } top\n",
    "# You call remove_max() on this stack\n",
    "\n",
    "maxValue = remove_max(s1);\n",
    "# maxValue will contain 117\n",
    "\n",
    "# Now, the stack s1 will look like:  \n",
    "# bottom { 7, 77, 88, 2, 97, 5, 107, 61, 107, 52 } top\n",
    "\n",
    "More specifications:\n",
    "If there are multiple instances of the maximum value, RemoveMax should remove all of those.  \n",
    "Example: On the stack s1 above, lets say we call RemoveMax again, \n",
    "then we should get the following resultant stack: bottomOfStack { 7, 77, 88, 2, 97, 5, 61, 52 } topOfStack\n",
    "You can use only one queue as auxiliary storage.\n",
    "You cannot use any other data structure in your code.\n",
    "Of course, using built in primitive type variables is ok (like, integer, etc)\n",
    "\"\"\""
   ]
  },
  {
   "cell_type": "code",
   "execution_count": null,
   "metadata": {},
   "outputs": [],
   "source": [
    "# 2. Write a method that removes the maximum value from a stack\n",
    "def remove_max(values):\n",
    "    pass"
   ]
  },
  {
   "cell_type": "code",
   "execution_count": null,
   "metadata": {},
   "outputs": [],
   "source": []
  },
  {
   "cell_type": "code",
   "execution_count": null,
   "metadata": {},
   "outputs": [],
   "source": [
    "queue1 = Queue(stack.count);\n",
    "maxElement = -11111\n",
    "\n",
    "def Remove_max():\n",
    "    queue1 = Queue(stack.count);\n",
    "    maxElement = -11111\n",
    "    \n",
    "    while(stack.count > 0):\n",
    "        element = stack.pop();\n",
    "        maxElement = math.max(maxElement, element);\n",
    "        queue1.enqueue(element)\n",
    "\n",
    "    while(queue1.count > 0):\n",
    "        element = queue1.dequeue();\n",
    "        if(element != maxElement):\n",
    "            stack.push(element)\n",
    "\n",
    "    while(stack.count > 0):\n",
    "        queue1.enqueue(stack.pop());\n",
    "\n",
    "    while(queue1.count > 0):\n",
    "        stack.push(queue1.dequeue());\n",
    "    return maxElement\n",
    "\n",
    "\n"
   ]
  },
  {
   "cell_type": "code",
   "execution_count": null,
   "metadata": {},
   "outputs": [],
   "source": []
  },
  {
   "cell_type": "code",
   "execution_count": null,
   "metadata": {},
   "outputs": [],
   "source": [
    "class MaxStack(list):\n",
    "    def push(self, x):\n",
    "        m = max(x, self[-1][1] if self else None)\n",
    "        self.append((x, m))\n",
    "\n",
    "    def pop(self):\n",
    "        return list.pop(self)[0]\n",
    "\n",
    "    def top(self):\n",
    "        return self[-1][0]\n",
    "\n",
    "    def peekMax(self):\n",
    "        return self[-1][1]\n",
    "\n",
    "    def get_stack(self):\n",
    "        return self.items\n",
    "    \n",
    "    def popMax(self):\n",
    "        m = self[-1][1]\n",
    "        b = []\n",
    "        while self[-1][0] != m:\n",
    "            b.append(self.pop())\n",
    "\n",
    "        self.pop()\n",
    "        map(self.push, reversed(b))\n",
    "        return m"
   ]
  },
  {
   "cell_type": "code",
   "execution_count": null,
   "metadata": {},
   "outputs": [],
   "source": []
  },
  {
   "cell_type": "code",
   "execution_count": null,
   "metadata": {},
   "outputs": [],
   "source": []
  },
  {
   "cell_type": "code",
   "execution_count": null,
   "metadata": {},
   "outputs": [],
   "source": []
  },
  {
   "cell_type": "code",
   "execution_count": null,
   "metadata": {},
   "outputs": [],
   "source": []
  }
 ],
 "metadata": {
  "kernelspec": {
   "display_name": "Python 3",
   "language": "python",
   "name": "python3"
  },
  "language_info": {
   "codemirror_mode": {
    "name": "ipython",
    "version": 3
   },
   "file_extension": ".py",
   "mimetype": "text/x-python",
   "name": "python",
   "nbconvert_exporter": "python",
   "pygments_lexer": "ipython3",
   "version": "3.6.5"
  }
 },
 "nbformat": 4,
 "nbformat_minor": 2
}
