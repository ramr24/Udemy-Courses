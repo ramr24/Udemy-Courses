{
 "cells": [
  {
   "cell_type": "markdown",
   "metadata": {},
   "source": [
    "### Assignment 1:"
   ]
  },
  {
   "cell_type": "code",
   "execution_count": 1,
   "metadata": {},
   "outputs": [],
   "source": [
    "#string 11 element = LpuPe81bc2w shortened url\n",
    "#Convert a base-62 number to base-10 and back again.\n",
    "#Hint: For each letter in the base-62 number, look up the value in the string (\"0123456789ABC...\"). \n",
    "#This gives you the base-62 value for that digit. Keep a running total and remember to keep multiplying by 62.\n",
    "#NOTE: Answer contains 20 digits (18,###,###,###,###,###,974)\n",
    "\n",
    "# 1. For our first problem, write a function that converts a given base-62 string\n",
    "#    into an integer. Only a single string will be provided, and it will be up to\n",
    "#    11 characters in length.\n",
    "\n",
    "# 2. Write a function that does the opposite of the previous one. That is, it\n",
    "#    encodes a integer video key as a base-62 string.\n"
   ]
  },
  {
   "cell_type": "code",
   "execution_count": 2,
   "metadata": {},
   "outputs": [],
   "source": [
    "base_62 = \"0123456789ABCDEFGHIJKLMNOPQRSTUVWXYZabcdefghijklmnopqrstuvwxyz\""
   ]
  },
  {
   "cell_type": "code",
   "execution_count": 3,
   "metadata": {},
   "outputs": [],
   "source": [
    "def to_base_10(videoId):\n",
    "    \"\"\"Convert given base-62 string into an integer (Decode).\n",
    "    Arguments: \n",
    "    -videoId: single string upto 11 characters\"\"\"\n",
    "    \n",
    "    base = len(base_62) #base = length of base_62 string\n",
    "    string = len(videoId) #string = length of the string\n",
    "    number = 0\n",
    "    exp = 0 #exp acts as part of exponent on 62^n-1\n",
    "    \n",
    "    for char in videoId: #for loop run for each character in the string videoId\n",
    "        power = (string - (exp + 1)) #n - 1\n",
    "        number = number + base_62.index(char) * (base ** power) #Index of string * 62^n-1 +...\n",
    "        exp = exp + 1\n",
    "    return number"
   ]
  },
  {
   "cell_type": "code",
   "execution_count": 4,
   "metadata": {},
   "outputs": [],
   "source": [
    "def to_base_62(number):\n",
    "    \"\"\"Encode an integer video key as a base-62 string (Encode).\n",
    "    Arguments: \n",
    "    -number: number to encode\"\"\"\n",
    "    \n",
    "    base = len(base_62) #base = length of base_62 string\n",
    "    array = [] #Creates a blank array\n",
    "    if number == 0:\n",
    "        return base_62[0] #Returns 1st element in base_62 string\n",
    "    \n",
    "    while number:\n",
    "        number, remainder = divmod(number, base) #divmod(a//b, a%b) returns (quotient, remainder)\n",
    "        array.append(base_62[remainder]) #chooses element from base_62 string and appends to array\n",
    "    array.reverse() #reverses the array after the while loop ends\n",
    "    b_string = \"\".join(array) #joins array as a string('') \n",
    "    return b_string"
   ]
  },
  {
   "cell_type": "code",
   "execution_count": 5,
   "metadata": {},
   "outputs": [
    {
     "data": {
      "text/plain": [
       "18327995462734721974"
      ]
     },
     "execution_count": 5,
     "metadata": {},
     "output_type": "execute_result"
    }
   ],
   "source": [
    "to_base_10(\"LpuPe81bc2w\")"
   ]
  },
  {
   "cell_type": "code",
   "execution_count": 6,
   "metadata": {},
   "outputs": [
    {
     "data": {
      "text/plain": [
       "'LpuPe81bc2w'"
      ]
     },
     "execution_count": 6,
     "metadata": {},
     "output_type": "execute_result"
    }
   ],
   "source": [
    "to_base_62(18327995462734721974)"
   ]
  },
  {
   "cell_type": "markdown",
   "metadata": {},
   "source": [
    "### Divmod example"
   ]
  },
  {
   "cell_type": "code",
   "execution_count": 7,
   "metadata": {},
   "outputs": [],
   "source": [
    "number = 5\n",
    "base = 10\n",
    "x = divmod(number, base)"
   ]
  },
  {
   "cell_type": "code",
   "execution_count": 8,
   "metadata": {},
   "outputs": [
    {
     "data": {
      "text/plain": [
       "0"
      ]
     },
     "execution_count": 8,
     "metadata": {},
     "output_type": "execute_result"
    }
   ],
   "source": [
    "x[0]"
   ]
  },
  {
   "cell_type": "code",
   "execution_count": 9,
   "metadata": {},
   "outputs": [
    {
     "data": {
      "text/plain": [
       "5"
      ]
     },
     "execution_count": 9,
     "metadata": {},
     "output_type": "execute_result"
    }
   ],
   "source": [
    "x[1]"
   ]
  },
  {
   "cell_type": "code",
   "execution_count": 10,
   "metadata": {},
   "outputs": [
    {
     "data": {
      "text/plain": [
       "0"
      ]
     },
     "execution_count": 10,
     "metadata": {},
     "output_type": "execute_result"
    }
   ],
   "source": [
    "5//10"
   ]
  },
  {
   "cell_type": "code",
   "execution_count": 11,
   "metadata": {},
   "outputs": [
    {
     "data": {
      "text/plain": [
       "5"
      ]
     },
     "execution_count": 11,
     "metadata": {},
     "output_type": "execute_result"
    }
   ],
   "source": [
    "5%10"
   ]
  }
 ],
 "metadata": {
  "kernelspec": {
   "display_name": "Python 3",
   "language": "python",
   "name": "python3"
  },
  "language_info": {
   "codemirror_mode": {
    "name": "ipython",
    "version": 3
   },
   "file_extension": ".py",
   "mimetype": "text/x-python",
   "name": "python",
   "nbconvert_exporter": "python",
   "pygments_lexer": "ipython3",
   "version": "3.6.5"
  }
 },
 "nbformat": 4,
 "nbformat_minor": 2
}
